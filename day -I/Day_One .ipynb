{
  "nbformat": 4,
  "nbformat_minor": 5,
  "metadata": {
    "kernelspec": {
      "display_name": "Python 3",
      "language": "python",
      "name": "python3"
    },
    "language_info": {
      "codemirror_mode": {
        "name": "ipython",
        "version": 3
      },
      "file_extension": ".py",
      "mimetype": "text/x-python",
      "name": "python",
      "nbconvert_exporter": "python",
      "pygments_lexer": "ipython3",
      "version": "3.6.7"
    },
    "colab": {
      "name": "Day-One .ipynb",
      "provenance": []
    }
  },
  "cells": [
    {
      "cell_type": "markdown",
      "metadata": {
        "id": "0f2f6cc1"
      },
      "source": [
        "# Install Libraries(If required)"
      ],
      "id": "0f2f6cc1"
    },
    {
      "cell_type": "code",
      "metadata": {
        "id": "b6c40501"
      },
      "source": [
        "# !pip install numpy"
      ],
      "id": "b6c40501",
      "execution_count": null,
      "outputs": []
    },
    {
      "cell_type": "code",
      "metadata": {
        "id": "6f2981b4"
      },
      "source": [
        "# !pip install seaborn"
      ],
      "id": "6f2981b4",
      "execution_count": null,
      "outputs": []
    },
    {
      "cell_type": "code",
      "metadata": {
        "id": "bafdff54"
      },
      "source": [
        "# !pip install pandas"
      ],
      "id": "bafdff54",
      "execution_count": null,
      "outputs": []
    },
    {
      "cell_type": "markdown",
      "metadata": {
        "id": "4e09398c"
      },
      "source": [
        "# Numpy"
      ],
      "id": "4e09398c"
    },
    {
      "cell_type": "markdown",
      "metadata": {
        "id": "a3728695"
      },
      "source": [
        "Numpy operates on *nd* arrays. These are similar to lists but contains homogenous elements but easier to store 2-d data."
      ],
      "id": "a3728695"
    },
    {
      "cell_type": "markdown",
      "metadata": {
        "id": "f5679619"
      },
      "source": [
        "Import the library"
      ],
      "id": "f5679619"
    },
    {
      "cell_type": "code",
      "metadata": {
        "id": "fd9ce287"
      },
      "source": [
        "import numpy as np"
      ],
      "id": "fd9ce287",
      "execution_count": null,
      "outputs": []
    },
    {
      "cell_type": "markdown",
      "metadata": {
        "id": "7354ef44"
      },
      "source": [
        "## How to initialize a numpy array"
      ],
      "id": "7354ef44"
    },
    {
      "cell_type": "markdown",
      "metadata": {
        "id": "68a281a3"
      },
      "source": [
        "### Method 1: Initialize a list and convert into an array"
      ],
      "id": "68a281a3"
    },
    {
      "cell_type": "markdown",
      "metadata": {
        "id": "bfb141fd"
      },
      "source": [
        "First we create a list, then using the np.array function we convert the list to a numpy array and store it in a variable. Later using the inbuilt functions we print it's type, shape, size and the data type the array contains."
      ],
      "id": "bfb141fd"
    },
    {
      "cell_type": "code",
      "metadata": {
        "id": "679ea984"
      },
      "source": [
        "l1=[1,2,3,4]\n",
        "n1=np.array(l1)\n",
        "print(n1)\n",
        "print(type(n1))\n",
        "print(n1.shape)\n",
        "print(n1.size)\n",
        "print(n1.dtype)"
      ],
      "id": "679ea984",
      "execution_count": null,
      "outputs": []
    },
    {
      "cell_type": "markdown",
      "metadata": {
        "id": "6c35d568"
      },
      "source": [
        "For 2D array using list, Initiliaze two lists and np.array() them. The number of elements in both the lists must be same. "
      ],
      "id": "6c35d568"
    },
    {
      "cell_type": "markdown",
      "metadata": {
        "id": "4281033a"
      },
      "source": [
        "Just like the previous method but here we create two lists, then put these lists in a square bracket inside the np.array function."
      ],
      "id": "4281033a"
    },
    {
      "cell_type": "code",
      "metadata": {
        "id": "4a762b27"
      },
      "source": [
        "l1=[1,2,3,4]\n",
        "l2=[5,6,7,8]\n",
        "n1=np.array([l1,l2])\n",
        "print(n1)\n",
        "print(type(n1))\n",
        "print(n1.shape)\n",
        "print(n1.size)\n",
        "print(n1.dtype)"
      ],
      "id": "4a762b27",
      "execution_count": null,
      "outputs": []
    },
    {
      "cell_type": "markdown",
      "metadata": {
        "id": "12b06526"
      },
      "source": [
        "### Method 2: Initialize as a np array itself."
      ],
      "id": "12b06526"
    },
    {
      "cell_type": "markdown",
      "metadata": {
        "id": "23e325b5"
      },
      "source": [
        "We take two lists [1,2,3] and [4,5,6], put them together inside a square bracket inside np.array function and store it in a variable. "
      ],
      "id": "23e325b5"
    },
    {
      "cell_type": "code",
      "metadata": {
        "id": "e0035adb"
      },
      "source": [
        "n2=np.array([[1,2,3],\n",
        "           [4,5,6]])\n",
        "print(n2)\n",
        "print(type(n2))\n",
        "print(n2.shape)\n",
        "print(n2.size)\n",
        "print(n2.dtype)"
      ],
      "id": "e0035adb",
      "execution_count": null,
      "outputs": []
    },
    {
      "cell_type": "markdown",
      "metadata": {
        "id": "af2ec217"
      },
      "source": [
        "### Method 3: Initialize an array using np.linspace and reshape them"
      ],
      "id": "af2ec217"
    },
    {
      "cell_type": "markdown",
      "metadata": {
        "id": "fecb8da3"
      },
      "source": [
        "np.linspace(start,end,num, endpoint= False/True)  \n",
        "\n",
        "start: Mention the starting number of the sequence \n",
        "\n",
        "end: Mention the ending number of the sequence \n",
        "\n",
        "num: Mention the Number of numbers that the sequencce should have  \n",
        "\n",
        "endpoint: Whether the end number must be included or not."
      ],
      "id": "fecb8da3"
    },
    {
      "cell_type": "code",
      "metadata": {
        "id": "9ac67787"
      },
      "source": [
        "n2=np.linspace(1,10,10,endpoint=True)\n",
        "print(n2)\n",
        "n2=np.resize(n2,(2,5))\n",
        "print(n2)"
      ],
      "id": "9ac67787",
      "execution_count": null,
      "outputs": []
    },
    {
      "cell_type": "markdown",
      "metadata": {
        "id": "66ed3a56"
      },
      "source": [
        "## How to create an identity matrix"
      ],
      "id": "66ed3a56"
    },
    {
      "cell_type": "markdown",
      "metadata": {
        "id": "914ab36f"
      },
      "source": [
        "Command: np.identity(n), Returns an identity array of dimension n x n,  with its main diagonal set to one, and all other elements 0. "
      ],
      "id": "914ab36f"
    },
    {
      "cell_type": "code",
      "metadata": {
        "id": "728aed8a"
      },
      "source": [
        "n3=np.identity(3)\n",
        "print(n3)"
      ],
      "id": "728aed8a",
      "execution_count": null,
      "outputs": []
    },
    {
      "cell_type": "markdown",
      "metadata": {
        "id": "014c99e6"
      },
      "source": [
        "## How to choose a particular elements or slice a subset from the whole matrix"
      ],
      "id": "014c99e6"
    },
    {
      "cell_type": "code",
      "metadata": {
        "id": "bd8b1861"
      },
      "source": [
        "n4=np.array([[1,2,3,4],\n",
        "             [5,6,7,8],\n",
        "             [9,10,11,12],\n",
        "             [13,14,15,16]])\n",
        "print(n4)\n",
        "print(n4.shape)"
      ],
      "id": "bd8b1861",
      "execution_count": null,
      "outputs": []
    },
    {
      "cell_type": "markdown",
      "metadata": {
        "id": "0a385873"
      },
      "source": [
        "n4[row,columns]"
      ],
      "id": "0a385873"
    },
    {
      "cell_type": "markdown",
      "metadata": {
        "id": "0fd18816"
      },
      "source": [
        "### To choose one or two rows only"
      ],
      "id": "0fd18816"
    },
    {
      "cell_type": "markdown",
      "metadata": {
        "id": "8812a8a4"
      },
      "source": [
        "#### CAUTION: Array and pandas index start from 0. Which means for the first row, the index is 0 and for second row the index is 1. We call out rows in numpy and pandas using their row index. "
      ],
      "id": "8812a8a4"
    },
    {
      "cell_type": "markdown",
      "metadata": {
        "id": "81541d16"
      },
      "source": [
        "In the example below, we need the third row, so mention the numpy name and in square brackets mention the row index. For third row the row index is 2."
      ],
      "id": "81541d16"
    },
    {
      "cell_type": "code",
      "metadata": {
        "id": "68dd4305"
      },
      "source": [
        "n4[2]"
      ],
      "id": "68dd4305",
      "execution_count": null,
      "outputs": []
    },
    {
      "cell_type": "markdown",
      "metadata": {
        "id": "e48006d9"
      },
      "source": [
        "To choose all the rows till a particular row use a colon before row index. This will select all the rows from zero to the row before the specified row. In the below example, we select the first two rows. n4[:a] means from first row index to a-1 row index. And n[:] means all rows and columns. "
      ],
      "id": "e48006d9"
    },
    {
      "cell_type": "code",
      "metadata": {
        "id": "eaa33917"
      },
      "source": [
        "n4[:2]"
      ],
      "id": "eaa33917",
      "execution_count": null,
      "outputs": []
    },
    {
      "cell_type": "markdown",
      "metadata": {
        "id": "18b216c0"
      },
      "source": [
        "### To choose one or two columns"
      ],
      "id": "18b216c0"
    },
    {
      "cell_type": "markdown",
      "metadata": {
        "id": "24adcc94"
      },
      "source": [
        "The value after the comma is for the column index. Here we are selecting third column ( index 2) of all rows."
      ],
      "id": "24adcc94"
    },
    {
      "cell_type": "code",
      "metadata": {
        "id": "88814924"
      },
      "source": [
        "n4[:,2]"
      ],
      "id": "88814924",
      "execution_count": null,
      "outputs": []
    },
    {
      "cell_type": "markdown",
      "metadata": {
        "id": "9c2460e5"
      },
      "source": [
        "Similarly like rows to select more than one column, use colon followed by the columns index. This will select all the columns from zero index to the previous column mentioned in the column index. "
      ],
      "id": "9c2460e5"
    },
    {
      "cell_type": "code",
      "metadata": {
        "id": "344c1ceb"
      },
      "source": [
        "n4[:,:3]"
      ],
      "id": "344c1ceb",
      "execution_count": null,
      "outputs": []
    },
    {
      "cell_type": "markdown",
      "metadata": {
        "id": "fb453830"
      },
      "source": [
        "### Slice a 2x2 matrix from the whole matrix"
      ],
      "id": "fb453830"
    },
    {
      "cell_type": "markdown",
      "metadata": {
        "id": "f9f4d5a7"
      },
      "source": [
        "Here we are mentioning to start slicing 'n[2:4,' from the 2nd row index (3rd row) to end before the 4th row index, which is 3rd row index(4th row). And in the column section ',:2]' we are mentioning from 0th column index (1st column) to before the 2nd column index which is 1st column index(2nd column)."
      ],
      "id": "f9f4d5a7"
    },
    {
      "cell_type": "code",
      "metadata": {
        "id": "ba62fc70"
      },
      "source": [
        "n4[2:4,:2]"
      ],
      "id": "ba62fc70",
      "execution_count": null,
      "outputs": []
    },
    {
      "cell_type": "markdown",
      "metadata": {
        "id": "8dfddb51"
      },
      "source": [
        "## Transpose and inverse functionality"
      ],
      "id": "8dfddb51"
    },
    {
      "cell_type": "markdown",
      "metadata": {
        "id": "68f293e2"
      },
      "source": [
        "np.arange(4) will create a 1-D array : [1,2,3,4] but using the reshape function we transform it into what ever shape we want. But keep in mind, in reshape(m,n) m x n must be equal to the number of elements in the array. Here 2x2=4 which equals the number of elements in an array. Initilizing 3x3 will lead to an error."
      ],
      "id": "68f293e2"
    },
    {
      "cell_type": "code",
      "metadata": {
        "id": "e68d21ad"
      },
      "source": [
        "x = np.arange(4).reshape((2,2))"
      ],
      "id": "e68d21ad",
      "execution_count": null,
      "outputs": []
    },
    {
      "cell_type": "code",
      "metadata": {
        "id": "1337fe68"
      },
      "source": [
        "print(x)"
      ],
      "id": "1337fe68",
      "execution_count": null,
      "outputs": []
    },
    {
      "cell_type": "markdown",
      "metadata": {
        "id": "7881b588"
      },
      "source": [
        "Specify the numpy array you want to transpose inside the round brackets of a transpose function."
      ],
      "id": "7881b588"
    },
    {
      "cell_type": "code",
      "metadata": {
        "id": "9b6423ac"
      },
      "source": [
        "y=np.transpose(x)"
      ],
      "id": "9b6423ac",
      "execution_count": null,
      "outputs": []
    },
    {
      "cell_type": "code",
      "metadata": {
        "id": "d62423ab"
      },
      "source": [
        "print(y)"
      ],
      "id": "d62423ab",
      "execution_count": null,
      "outputs": []
    },
    {
      "cell_type": "code",
      "metadata": {
        "id": "2836da07"
      },
      "source": [
        "x=np.arange(16).reshape((4,4))\n",
        "x"
      ],
      "id": "2836da07",
      "execution_count": null,
      "outputs": []
    },
    {
      "cell_type": "markdown",
      "metadata": {
        "id": "9aab7ede"
      },
      "source": [
        "Specify the numpy array you want to take inverse of inside the round brackets of linalg.inv() function."
      ],
      "id": "9aab7ede"
    },
    {
      "cell_type": "code",
      "metadata": {
        "id": "17db04a6"
      },
      "source": [
        "y = np.linalg.inv(x)\n",
        "print(y)"
      ],
      "id": "17db04a6",
      "execution_count": null,
      "outputs": []
    },
    {
      "cell_type": "markdown",
      "metadata": {
        "id": "d0c22ef9"
      },
      "source": [
        "## Multiplication of matrix using numpy"
      ],
      "id": "d0c22ef9"
    },
    {
      "cell_type": "markdown",
      "metadata": {
        "id": "204a658c"
      },
      "source": [
        "### Two methods:\n",
        "\n"
      ],
      "id": "204a658c"
    },
    {
      "cell_type": "markdown",
      "metadata": {
        "id": "a5ab2b8c"
      },
      "source": [
        "np.dot(a,b): Use if both a and b are 2-D array(matrix)"
      ],
      "id": "a5ab2b8c"
    },
    {
      "cell_type": "markdown",
      "metadata": {
        "id": "aa9dbcf6"
      },
      "source": [
        "np.matmul(a,b): Use if either of the two array are scalar or of different dimension."
      ],
      "id": "aa9dbcf6"
    },
    {
      "cell_type": "code",
      "metadata": {
        "id": "28b9be78"
      },
      "source": [
        "a = np.array([[1, 0], [0, 1]])\n",
        "b = np.array([[4, 1], [2, 2]])"
      ],
      "id": "28b9be78",
      "execution_count": null,
      "outputs": []
    },
    {
      "cell_type": "code",
      "metadata": {
        "id": "77846cba"
      },
      "source": [
        "c=np.dot(a,b)\n",
        "c"
      ],
      "id": "77846cba",
      "execution_count": null,
      "outputs": []
    },
    {
      "cell_type": "code",
      "metadata": {
        "id": "a72f2259"
      },
      "source": [
        "a = np.array([[1, 0],\n",
        "              [0, 1]])\n",
        "b = np.array([1, 2])"
      ],
      "id": "a72f2259",
      "execution_count": null,
      "outputs": []
    },
    {
      "cell_type": "code",
      "metadata": {
        "id": "60af38d5"
      },
      "source": [
        "c=np.matmul(a,b)\n",
        "c"
      ],
      "id": "60af38d5",
      "execution_count": null,
      "outputs": []
    },
    {
      "cell_type": "markdown",
      "metadata": {
        "id": "5233f2f8"
      },
      "source": [
        "# Pandas"
      ],
      "id": "5233f2f8"
    },
    {
      "cell_type": "markdown",
      "metadata": {
        "id": "0764d683"
      },
      "source": [
        "## Series"
      ],
      "id": "0764d683"
    },
    {
      "cell_type": "markdown",
      "metadata": {
        "id": "d49ab4b2"
      },
      "source": [
        "Pandas series are almost same as nd arrays in numpy, with a additional inferencing ability with custom labels like keys in a dictionary in python.\n",
        "\n"
      ],
      "id": "d49ab4b2"
    },
    {
      "cell_type": "markdown",
      "metadata": {
        "id": "582f4a80"
      },
      "source": [
        "Let's initialize a series."
      ],
      "id": "582f4a80"
    },
    {
      "cell_type": "code",
      "metadata": {
        "id": "96db032a"
      },
      "source": [
        "import numpy as np\n",
        "import pandas as pd"
      ],
      "id": "96db032a",
      "execution_count": null,
      "outputs": []
    },
    {
      "cell_type": "code",
      "metadata": {
        "id": "1acce8ab"
      },
      "source": [
        "series2 = pd.Series(data = [1,2,3], index = ['key1', 'key2', 'key3'])\n",
        "series2"
      ],
      "id": "1acce8ab",
      "execution_count": null,
      "outputs": []
    },
    {
      "cell_type": "markdown",
      "metadata": {
        "id": "915e8e39"
      },
      "source": [
        "## Dataframe"
      ],
      "id": "915e8e39"
    },
    {
      "cell_type": "markdown",
      "metadata": {
        "id": "7ea20073"
      },
      "source": [
        "A dataframe is a table with labeled columns which can hold different types of data in each column."
      ],
      "id": "7ea20073"
    },
    {
      "cell_type": "markdown",
      "metadata": {
        "id": "898497b9"
      },
      "source": [
        "Initializing a dataframe"
      ],
      "id": "898497b9"
    },
    {
      "cell_type": "markdown",
      "metadata": {
        "id": "984c2be0"
      },
      "source": [
        "We are initilizaing a dictionary first. Each key is a column name and each key has a list as it's value. And then we convert it into a dataframe."
      ],
      "id": "984c2be0"
    },
    {
      "cell_type": "code",
      "metadata": {
        "id": "2a39c73a"
      },
      "source": [
        "d1 = {'a': [1,2,3], 'b': [3,4,5], 'c':[6,7,8] }\n",
        "df1 = pd.DataFrame(d1)\n",
        "df1"
      ],
      "id": "2a39c73a",
      "execution_count": null,
      "outputs": []
    },
    {
      "cell_type": "markdown",
      "metadata": {
        "id": "7606c3cb"
      },
      "source": [
        "## Importing a csv file as df"
      ],
      "id": "7606c3cb"
    },
    {
      "cell_type": "markdown",
      "metadata": {
        "id": "5e6b681c"
      },
      "source": [
        "Command: df=pd.read_csv(‘path_to_file/file.csv’, names=[], header= 0/None, index_col=0)  \n",
        "\n",
        "For json file: df=pd.read_json(‘path_to_file/file.json’)\n",
        "\n",
        "Use this command once you have loaded the dataset into your colab notebook."
      ],
      "id": "5e6b681c"
    },
    {
      "cell_type": "code",
      "metadata": {
        "id": "f3f212e1"
      },
      "source": [
        "df = pd.read_csv('auto-mpg.csv')\n"
      ],
      "id": "f3f212e1",
      "execution_count": null,
      "outputs": []
    },
    {
      "cell_type": "markdown",
      "metadata": {
        "id": "05bbfa2d"
      },
      "source": [
        "## To view the first and last entries"
      ],
      "id": "05bbfa2d"
    },
    {
      "cell_type": "markdown",
      "metadata": {
        "id": "71bc8f82"
      },
      "source": [
        "df.head(n): Display the first n number of rows (Default: 5 rows)  \n",
        "df.tail(n): Display the bottom n number of rows(Default: 5 rows)\n"
      ],
      "id": "71bc8f82"
    },
    {
      "cell_type": "markdown",
      "metadata": {
        "id": "489f6210"
      },
      "source": [
        "Display the first 5 rows using the following command:"
      ],
      "id": "489f6210"
    },
    {
      "cell_type": "code",
      "metadata": {
        "id": "85779e3c"
      },
      "source": [
        "df.head()"
      ],
      "id": "85779e3c",
      "execution_count": null,
      "outputs": []
    },
    {
      "cell_type": "markdown",
      "metadata": {
        "id": "690f0a0a"
      },
      "source": [
        "Display the last 5 rows using the following command:"
      ],
      "id": "690f0a0a"
    },
    {
      "cell_type": "code",
      "metadata": {
        "id": "15634aaf"
      },
      "source": [
        "df.tail()"
      ],
      "id": "15634aaf",
      "execution_count": null,
      "outputs": []
    },
    {
      "cell_type": "markdown",
      "metadata": {
        "id": "2bf562ae"
      },
      "source": [
        "## To save a df into a csv file"
      ],
      "id": "2bf562ae"
    },
    {
      "cell_type": "markdown",
      "metadata": {
        "id": "35e0b5c0"
      },
      "source": [
        "-df.to_csv('/location/name.cav',index=False)  \n",
        "Index= False means that the index used in dataframe will not be saved as a separate column in the csv file"
      ],
      "id": "35e0b5c0"
    },
    {
      "cell_type": "code",
      "metadata": {
        "id": "7d771c30"
      },
      "source": [
        "df.to_csv('cars.csv',index=False)"
      ],
      "id": "7d771c30",
      "execution_count": null,
      "outputs": []
    },
    {
      "cell_type": "markdown",
      "metadata": {
        "id": "5dc5ffa5"
      },
      "source": [
        "### To view the column names"
      ],
      "id": "5dc5ffa5"
    },
    {
      "cell_type": "markdown",
      "metadata": {
        "id": "5a0324d5"
      },
      "source": [
        "Displays the column names in a dataset."
      ],
      "id": "5a0324d5"
    },
    {
      "cell_type": "code",
      "metadata": {
        "id": "c7883ae8"
      },
      "source": [
        "df.columns"
      ],
      "id": "c7883ae8",
      "execution_count": null,
      "outputs": []
    },
    {
      "cell_type": "markdown",
      "metadata": {
        "id": "5eec6102"
      },
      "source": [
        "## To select one or more columns"
      ],
      "id": "5eec6102"
    },
    {
      "cell_type": "markdown",
      "metadata": {
        "id": "58409ae1"
      },
      "source": [
        "-df[‘col_name]  \n",
        "-df[[‘col1’,’col2’]]\n"
      ],
      "id": "58409ae1"
    },
    {
      "cell_type": "markdown",
      "metadata": {
        "id": "151a495d"
      },
      "source": [
        "Printing the first 5 rows of mpg column of dataset."
      ],
      "id": "151a495d"
    },
    {
      "cell_type": "code",
      "metadata": {
        "id": "fb6cdd87"
      },
      "source": [
        "df['mpg'].head()"
      ],
      "id": "fb6cdd87",
      "execution_count": null,
      "outputs": []
    },
    {
      "cell_type": "markdown",
      "metadata": {
        "id": "7542b0f8"
      },
      "source": [
        "Printing the first 10 rows of the mpg and origin columns of the dataset."
      ],
      "id": "7542b0f8"
    },
    {
      "cell_type": "code",
      "metadata": {
        "id": "1dbd2e81"
      },
      "source": [
        "df[['mpg','origin']].head(10)"
      ],
      "id": "1dbd2e81",
      "execution_count": null,
      "outputs": []
    },
    {
      "cell_type": "markdown",
      "metadata": {
        "id": "d03264e3"
      },
      "source": [
        "## To copy one dataframe to another"
      ],
      "id": "d03264e3"
    },
    {
      "cell_type": "markdown",
      "metadata": {
        "id": "19b71865"
      },
      "source": [
        "Command: df2=df1.copy(deep=True)\n"
      ],
      "id": "19b71865"
    },
    {
      "cell_type": "markdown",
      "metadata": {
        "id": "c16da55a"
      },
      "source": [
        "Copy the dataframe from df to df2. With deep argument=True, the changes done to dataset in df2 will not affect df. If deep= False, any changes in df2 will affect df."
      ],
      "id": "c16da55a"
    },
    {
      "cell_type": "code",
      "metadata": {
        "id": "1da1167e"
      },
      "source": [
        "df2=df.copy(deep=True)"
      ],
      "id": "1da1167e",
      "execution_count": null,
      "outputs": []
    },
    {
      "cell_type": "markdown",
      "metadata": {
        "id": "3c68676d"
      },
      "source": [
        "## Slicing and joining operations  \n",
        "It has the same syntax as numpy slicing operation\n"
      ],
      "id": "3c68676d"
    },
    {
      "cell_type": "markdown",
      "metadata": {
        "id": "97d7e8cf"
      },
      "source": [
        "Command: df.iloc[row_indexer,column_indexer]\n"
      ],
      "id": "97d7e8cf"
    },
    {
      "cell_type": "markdown",
      "metadata": {
        "id": "0e422686"
      },
      "source": [
        "Slice all rows and column 2 and 3 and put in a variable df3."
      ],
      "id": "0e422686"
    },
    {
      "cell_type": "code",
      "metadata": {
        "id": "011f73ec"
      },
      "source": [
        "df3=df.iloc[:,2:4]"
      ],
      "id": "011f73ec",
      "execution_count": null,
      "outputs": []
    },
    {
      "cell_type": "code",
      "metadata": {
        "id": "13c8b1ba"
      },
      "source": [
        "df3.head()"
      ],
      "id": "13c8b1ba",
      "execution_count": null,
      "outputs": []
    },
    {
      "cell_type": "markdown",
      "metadata": {
        "id": "6d7ad82d"
      },
      "source": [
        "Slice rows from 2 to 4 and all columns and put in a variable df3."
      ],
      "id": "6d7ad82d"
    },
    {
      "cell_type": "code",
      "metadata": {
        "id": "fc9a84f7"
      },
      "source": [
        "df3=df.iloc[2:5,:]"
      ],
      "id": "fc9a84f7",
      "execution_count": null,
      "outputs": []
    },
    {
      "cell_type": "code",
      "metadata": {
        "id": "932c767d"
      },
      "source": [
        "df3.head()"
      ],
      "id": "932c767d",
      "execution_count": null,
      "outputs": []
    },
    {
      "cell_type": "markdown",
      "metadata": {
        "id": "a20913ac"
      },
      "source": [
        "Slice the first 5 rows and all columns and save it to df2. Slice the next 5 rows and all columns and save it to df3."
      ],
      "id": "a20913ac"
    },
    {
      "cell_type": "code",
      "metadata": {
        "id": "bdb1d281"
      },
      "source": [
        "df2=df.iloc[0:5,:]\n",
        "df3=df.loc[5:10,:]"
      ],
      "id": "bdb1d281",
      "execution_count": null,
      "outputs": []
    },
    {
      "cell_type": "markdown",
      "metadata": {
        "id": "0fee8cc6"
      },
      "source": [
        "## Joining two dataframes that have same columns  \n",
        "command: df1.append(df2)"
      ],
      "id": "0fee8cc6"
    },
    {
      "cell_type": "markdown",
      "metadata": {
        "id": "b89ca49c"
      },
      "source": [
        "Now df2 and df3 have the same columns. We use append function to join df3 at the end of df2 and save it to df4."
      ],
      "id": "b89ca49c"
    },
    {
      "cell_type": "code",
      "metadata": {
        "id": "b4666af0"
      },
      "source": [
        "df4=df2.append(df3)"
      ],
      "id": "b4666af0",
      "execution_count": null,
      "outputs": []
    },
    {
      "cell_type": "code",
      "metadata": {
        "id": "8d72d814"
      },
      "source": [
        "df4"
      ],
      "id": "8d72d814",
      "execution_count": null,
      "outputs": []
    },
    {
      "cell_type": "markdown",
      "metadata": {
        "id": "e2fd77bd"
      },
      "source": [
        "# Visualization"
      ],
      "id": "e2fd77bd"
    },
    {
      "cell_type": "markdown",
      "metadata": {
        "id": "6a17fc24"
      },
      "source": [
        "Importing the necessary libraries."
      ],
      "id": "6a17fc24"
    },
    {
      "cell_type": "code",
      "metadata": {
        "id": "feb5724f"
      },
      "source": [
        "import pandas as pd\n",
        "import seaborn as sns   # Why sns?  It's a reference to The West Wing\n",
        "import matplotlib.pyplot as plt  # seaborn is based on matplotlib\n",
        "sns.set(color_codes=True) # adds a nice background to the graphs\n",
        "%matplotlib inline \n",
        "# tells python to actually display the graphs"
      ],
      "id": "feb5724f",
      "execution_count": null,
      "outputs": []
    },
    {
      "cell_type": "markdown",
      "metadata": {
        "id": "5ec3fa45"
      },
      "source": [
        "Reading the csv file using read_csv function."
      ],
      "id": "5ec3fa45"
    },
    {
      "cell_type": "code",
      "metadata": {
        "id": "ebb68b81"
      },
      "source": [
        "auto = pd.read_csv('Automobile.csv')\n",
        "auto.head()"
      ],
      "id": "ebb68b81",
      "execution_count": null,
      "outputs": []
    },
    {
      "cell_type": "markdown",
      "metadata": {
        "id": "035089b8"
      },
      "source": [
        "## Plotting univariate distributions\n",
        "\n",
        "The most convenient way to take a quick look at a univariate distribution in seaborn is the distplot() function. By default, this will draw a histogram and fit a kernel density estimate (KDE).  \n",
        "\n"
      ],
      "id": "035089b8"
    },
    {
      "cell_type": "markdown",
      "metadata": {
        "id": "fa8a45a1"
      },
      "source": [
        "Plotting distribution plot for column 'highway_mpg'."
      ],
      "id": "fa8a45a1"
    },
    {
      "cell_type": "code",
      "metadata": {
        "id": "4a41ab59"
      },
      "source": [
        "sns.distplot(auto['highway_mpg'])"
      ],
      "id": "4a41ab59",
      "execution_count": null,
      "outputs": []
    },
    {
      "cell_type": "markdown",
      "metadata": {
        "id": "bfd5731b"
      },
      "source": [
        "## Plotting bivariate distributions\n",
        "\n",
        "It can also be useful to visualize a relationship between two variables. "
      ],
      "id": "bfd5731b"
    },
    {
      "cell_type": "markdown",
      "metadata": {
        "id": "5e0e831d"
      },
      "source": [
        "Plotting joint plot for columns 'horsepower' and 'engine_size'."
      ],
      "id": "5e0e831d"
    },
    {
      "cell_type": "code",
      "metadata": {
        "id": "1b27d185"
      },
      "source": [
        "sns.jointplot(auto['engine_size'], auto['horsepower'])"
      ],
      "id": "1b27d185",
      "execution_count": null,
      "outputs": []
    },
    {
      "cell_type": "markdown",
      "metadata": {
        "id": "dd6d0432"
      },
      "source": [
        "### Hex Bin Plots\n",
        "\n",
        "We can make a hex bin plot that breaks the 2D area into hexagons and the number of points in each hexagon determines the color."
      ],
      "id": "dd6d0432"
    },
    {
      "cell_type": "markdown",
      "metadata": {
        "id": "49d49187"
      },
      "source": [
        "It is similar to jointplot just with a different pattern."
      ],
      "id": "49d49187"
    },
    {
      "cell_type": "code",
      "metadata": {
        "id": "1f8f227f"
      },
      "source": [
        "sns.jointplot(auto['engine_size'], auto['horsepower'], kind=\"hex\")"
      ],
      "id": "1f8f227f",
      "execution_count": null,
      "outputs": []
    },
    {
      "cell_type": "markdown",
      "metadata": {
        "id": "dbb2e6c0"
      },
      "source": [
        "## Visualizing pairwise relationships in a dataset\n",
        "\n",
        "To plot multiple pairwise scatterplots in a dataset, you can use the pairplot() function. This creates a matrix of axes and shows the relationship for each pair of columns in a DataFrame, it also draws the histogram of each variable on the diagonal Axes:\n",
        "\n",
        "Be careful about toggle scrolling in the cell menu!!!"
      ],
      "id": "dbb2e6c0"
    },
    {
      "cell_type": "code",
      "metadata": {
        "id": "091f9b7f"
      },
      "source": [
        "sns.pairplot(auto[['normalized_losses', 'engine_size', 'horsepower']]) #If yo did not mention the columns you want, all columns will be considered."
      ],
      "id": "091f9b7f",
      "execution_count": null,
      "outputs": []
    },
    {
      "cell_type": "markdown",
      "metadata": {
        "id": "97a7c570"
      },
      "source": [
        "A pairplot only using three columns. If the columns are not mentioned every continuous variable(columns) will be included in the plot."
      ],
      "id": "97a7c570"
    },
    {
      "cell_type": "markdown",
      "metadata": {
        "id": "d809c73b"
      },
      "source": [
        "## Plotting with categorical vs continuous data\n",
        "\n"
      ],
      "id": "d809c73b"
    },
    {
      "cell_type": "markdown",
      "metadata": {
        "id": "3cb19893"
      },
      "source": [
        "In a strip plot, the scatterplot points will usually overlap. This makes it difficult to see the full distribution of data. One easy solution is to adjust the positions (only along the categorical axis) using “jitter\"."
      ],
      "id": "3cb19893"
    },
    {
      "cell_type": "markdown",
      "metadata": {
        "id": "dba1b6ab"
      },
      "source": [
        "Plot with column horsepower along y-axis and fuel type along x-axis."
      ],
      "id": "dba1b6ab"
    },
    {
      "cell_type": "code",
      "metadata": {
        "id": "b6abf7b1"
      },
      "source": [
        "sns.stripplot(auto['fuel_type'], auto['horsepower'], jitter=True)"
      ],
      "id": "b6abf7b1",
      "execution_count": null,
      "outputs": []
    },
    {
      "cell_type": "markdown",
      "metadata": {
        "id": "fc9aaf9e"
      },
      "source": [
        "A different approach would be to use the function swarmplot(),It avoids overlapping points:"
      ],
      "id": "fc9aaf9e"
    },
    {
      "cell_type": "code",
      "metadata": {
        "id": "b7d1becd"
      },
      "source": [
        "sns.swarmplot(auto['fuel_type'], auto['horsepower'])"
      ],
      "id": "b7d1becd",
      "execution_count": null,
      "outputs": []
    },
    {
      "cell_type": "markdown",
      "metadata": {
        "id": "b381c091"
      },
      "source": [
        "## Boxplots\n",
        "\n",
        "Another common graph is a boxplot(). This kind of plot shows the three quartile values of the distribution along with extreme values. The “whiskers” extend to points that lie within 1.5 IQRs of the lower and upper quartile, and then observations that fall outside this range are displayed independently. "
      ],
      "id": "b381c091"
    },
    {
      "cell_type": "markdown",
      "metadata": {
        "id": "689053b2"
      },
      "source": [
        "Plotting a box plot with column 'horsepower' aling y-axis and 'number of doors' along x-axis."
      ],
      "id": "689053b2"
    },
    {
      "cell_type": "code",
      "metadata": {
        "id": "5caef8fd"
      },
      "source": [
        "sns.boxplot(auto['number_of_doors'], auto['horsepower'])"
      ],
      "id": "5caef8fd",
      "execution_count": null,
      "outputs": []
    },
    {
      "cell_type": "markdown",
      "metadata": {
        "id": "15572ba6"
      },
      "source": [
        "We can add an argument called hue to further add another categorical variable to the existing plot. This is completely optional."
      ],
      "id": "15572ba6"
    },
    {
      "cell_type": "code",
      "metadata": {
        "id": "0983fa49"
      },
      "source": [
        "sns.boxplot(auto['number_of_doors'], auto['horsepower'], hue=auto['fuel_type']) "
      ],
      "id": "0983fa49",
      "execution_count": null,
      "outputs": []
    },
    {
      "cell_type": "markdown",
      "metadata": {
        "id": "e35dd539"
      },
      "source": [
        "## Bar plots\n",
        "\n",
        "We can plot the mean of a a dataset, separated in categories using the barplot() function.\n",
        "\n",
        "Bar plots start at 0, which can sometimes be practical if zero is a number you want to compare to."
      ],
      "id": "e35dd539"
    },
    {
      "cell_type": "markdown",
      "metadata": {
        "id": "a5df5aba"
      },
      "source": [
        "Plotting bar plots for columns body_style, horsepower with fuel type as hue."
      ],
      "id": "a5df5aba"
    },
    {
      "cell_type": "code",
      "metadata": {
        "id": "d37c719f"
      },
      "source": [
        "sns.barplot(auto['body_style'], auto['horsepower'], hue=auto['fuel_type'])"
      ],
      "id": "d37c719f",
      "execution_count": null,
      "outputs": []
    },
    {
      "cell_type": "markdown",
      "metadata": {
        "id": "9930a7fd"
      },
      "source": [
        "A special case for the bar plot is when you want to show the number of observations in each category rather than computing the mean of a second variable. This is similar to a histogram over a categorical, rather than quantitative, variable. In seaborn, it’s easy to do so with the countplot() function:"
      ],
      "id": "9930a7fd"
    },
    {
      "cell_type": "markdown",
      "metadata": {
        "id": "6d76b37b"
      },
      "source": [
        "## Countplot"
      ],
      "id": "6d76b37b"
    },
    {
      "cell_type": "markdown",
      "metadata": {
        "id": "f8237e57"
      },
      "source": [
        "Plots the number of observations in each category of categorical column/ variable."
      ],
      "id": "f8237e57"
    },
    {
      "cell_type": "markdown",
      "metadata": {
        "id": "e38c5ffe"
      },
      "source": [
        "Plot the count plot for body style column with hue as fuel_type."
      ],
      "id": "e38c5ffe"
    },
    {
      "cell_type": "code",
      "metadata": {
        "id": "6fd0b605"
      },
      "source": [
        "\n",
        "sns.countplot(auto['body_style'],hue=auto['fuel_type'])"
      ],
      "id": "6fd0b605",
      "execution_count": null,
      "outputs": []
    },
    {
      "cell_type": "markdown",
      "metadata": {
        "id": "c3fc6f2e"
      },
      "source": [
        "# Exploratory Data analysis"
      ],
      "id": "c3fc6f2e"
    },
    {
      "cell_type": "markdown",
      "metadata": {
        "id": "e50c3536"
      },
      "source": [
        "###  Load the libraries:"
      ],
      "id": "e50c3536"
    },
    {
      "cell_type": "markdown",
      "metadata": {
        "id": "22055ee4"
      },
      "source": [
        "Import the numpy, pandas, matplotlib and seaborn libraries:"
      ],
      "id": "22055ee4"
    },
    {
      "cell_type": "code",
      "metadata": {
        "id": "da784044"
      },
      "source": [
        "import numpy as np\n",
        "import pandas as pd\n",
        "import seaborn as sns\n",
        "import matplotlib.pyplot as plt  \n",
        "sns.set(color_codes=True) \n",
        "%matplotlib inline "
      ],
      "id": "da784044",
      "execution_count": null,
      "outputs": []
    },
    {
      "cell_type": "markdown",
      "metadata": {
        "id": "0d469f48"
      },
      "source": [
        "### Import the dataset"
      ],
      "id": "0d469f48"
    },
    {
      "cell_type": "markdown",
      "metadata": {
        "id": "4c510a20"
      },
      "source": [
        "Using pd.read_csv command load the csv file as df and using the head() function viewing the first five rows."
      ],
      "id": "4c510a20"
    },
    {
      "cell_type": "code",
      "metadata": {
        "id": "8d8497c0"
      },
      "source": [
        "auto  = pd.read_csv('Automobile.csv') \n",
        "auto.head()  # view the first 5 rows of the data"
      ],
      "id": "8d8497c0",
      "execution_count": null,
      "outputs": []
    },
    {
      "cell_type": "markdown",
      "metadata": {
        "id": "8d5054ec"
      },
      "source": [
        "The column make has no significance to the target variable so remove it."
      ],
      "id": "8d5054ec"
    },
    {
      "cell_type": "code",
      "metadata": {
        "id": "261c680e"
      },
      "source": [
        "auto.drop('make',axis=1,inplace=True)"
      ],
      "id": "261c680e",
      "execution_count": null,
      "outputs": []
    },
    {
      "cell_type": "markdown",
      "metadata": {
        "id": "e214d8ce"
      },
      "source": [
        "Print the column names of the dataset."
      ],
      "id": "e214d8ce"
    },
    {
      "cell_type": "code",
      "metadata": {
        "id": "f40ed205"
      },
      "source": [
        "auto.columns"
      ],
      "id": "f40ed205",
      "execution_count": null,
      "outputs": []
    },
    {
      "cell_type": "markdown",
      "metadata": {
        "id": "5b8a1d20"
      },
      "source": [
        "### Check the dimensions of the data"
      ],
      "id": "5b8a1d20"
    },
    {
      "cell_type": "markdown",
      "metadata": {
        "id": "9208def3"
      },
      "source": [
        "See the shape of the data."
      ],
      "id": "9208def3"
    },
    {
      "cell_type": "code",
      "metadata": {
        "id": "65d1733e"
      },
      "source": [
        "auto.shape "
      ],
      "id": "65d1733e",
      "execution_count": null,
      "outputs": []
    },
    {
      "cell_type": "markdown",
      "metadata": {
        "id": "55a21d55"
      },
      "source": [
        "**There are 201 Observations / Rows and 26 Attributes / Columns.**"
      ],
      "id": "55a21d55"
    },
    {
      "cell_type": "markdown",
      "metadata": {
        "id": "8a9f6d53"
      },
      "source": [
        "### How to know if the variables are continuous or categorical ??"
      ],
      "id": "8a9f6d53"
    },
    {
      "cell_type": "markdown",
      "metadata": {
        "id": "7d3f5f55"
      },
      "source": [
        "Prints the number of unique values in each column of the dataset:"
      ],
      "id": "7d3f5f55"
    },
    {
      "cell_type": "code",
      "metadata": {
        "id": "d985242a"
      },
      "source": [
        "auto.nunique()"
      ],
      "id": "d985242a",
      "execution_count": null,
      "outputs": []
    },
    {
      "cell_type": "markdown",
      "metadata": {
        "id": "9ea46fb5"
      },
      "source": [
        "The columns with less number on the right hand side is most probably a categorical variable whereas with large number it is continuous variable."
      ],
      "id": "9ea46fb5"
    },
    {
      "cell_type": "markdown",
      "metadata": {
        "id": "cf624a09"
      },
      "source": [
        "### Count the number of observations in categorical variables"
      ],
      "id": "cf624a09"
    },
    {
      "cell_type": "markdown",
      "metadata": {
        "id": "507bb0bf"
      },
      "source": [
        "Prints the number of observations in each category in that column."
      ],
      "id": "507bb0bf"
    },
    {
      "cell_type": "code",
      "metadata": {
        "id": "3ef7db08"
      },
      "source": [
        "auto['body_style'].value_counts()"
      ],
      "id": "3ef7db08",
      "execution_count": null,
      "outputs": []
    },
    {
      "cell_type": "markdown",
      "metadata": {
        "id": "737054d1"
      },
      "source": [
        "Prints the number of observations in each category in that column."
      ],
      "id": "737054d1"
    },
    {
      "cell_type": "code",
      "metadata": {
        "id": "ba3bc632"
      },
      "source": [
        "auto['number_of_doors'].value_counts()"
      ],
      "id": "ba3bc632",
      "execution_count": null,
      "outputs": []
    },
    {
      "cell_type": "markdown",
      "metadata": {
        "id": "a2b938cd"
      },
      "source": [
        "### Check the Information about the data and the datatypes of each respective attributes."
      ],
      "id": "a2b938cd"
    },
    {
      "cell_type": "code",
      "metadata": {
        "id": "26df4f81"
      },
      "source": [
        "auto.info()"
      ],
      "id": "26df4f81",
      "execution_count": null,
      "outputs": []
    },
    {
      "cell_type": "markdown",
      "metadata": {
        "id": "ccad8439"
      },
      "source": [
        "### Descriptive Statistics"
      ],
      "id": "ccad8439"
    },
    {
      "cell_type": "markdown",
      "metadata": {
        "id": "7792de41"
      },
      "source": [
        "#### Calculate mean, mode and median"
      ],
      "id": "7792de41"
    },
    {
      "cell_type": "markdown",
      "metadata": {
        "id": "fcbb42a2"
      },
      "source": [
        "Prints the mean of the dataset for each variable/column."
      ],
      "id": "fcbb42a2"
    },
    {
      "cell_type": "code",
      "metadata": {
        "id": "81d36fc8"
      },
      "source": [
        "print(auto.mean()) "
      ],
      "id": "81d36fc8",
      "execution_count": null,
      "outputs": []
    },
    {
      "cell_type": "markdown",
      "metadata": {
        "id": "c8cdc76e"
      },
      "source": [
        "Print the mode of the dataset for that  variable/column."
      ],
      "id": "c8cdc76e"
    },
    {
      "cell_type": "code",
      "metadata": {
        "id": "e889aae8"
      },
      "source": [
        "print(auto['city_mpg'].mode())  "
      ],
      "id": "e889aae8",
      "execution_count": null,
      "outputs": []
    },
    {
      "cell_type": "markdown",
      "metadata": {
        "id": "f75147ff"
      },
      "source": [
        " Only one mode for city_mpg column."
      ],
      "id": "f75147ff"
    },
    {
      "cell_type": "markdown",
      "metadata": {
        "id": "4fcc893e"
      },
      "source": [
        "Prints the median of the dataset for each variable/column."
      ],
      "id": "4fcc893e"
    },
    {
      "cell_type": "code",
      "metadata": {
        "id": "63e9d12e"
      },
      "source": [
        "print(auto.median())  # Print the median values of the data."
      ],
      "id": "63e9d12e",
      "execution_count": null,
      "outputs": []
    },
    {
      "cell_type": "markdown",
      "metadata": {
        "id": "c247fea3"
      },
      "source": [
        "#### Plotting mean,mode and median for a single attribute"
      ],
      "id": "c247fea3"
    },
    {
      "cell_type": "code",
      "metadata": {
        "id": "74fecd20"
      },
      "source": [
        "mean=auto['city_mpg'].mean()\n",
        "median=auto['city_mpg'].median()\n",
        "mode=auto['city_mpg'].mode()\n",
        "\n",
        "print('Mean: ',mean,'\\nMedian: ',median,'\\nMode: ',mode[0])\n",
        "\n",
        "plt.figure(figsize=(10,5)) # set the figure size\n",
        "plt.hist(auto['city_mpg'],bins=100,color='lightblue') #Plot the histogram\n",
        "\n",
        "plt.axvline(mean,color='green',label='Mean')     # Draw lines on the plot for mean median and the two modes we have in GRE Score\n",
        "plt.axvline(median,color='blue',label='Median')\n",
        "plt.axvline(mode[0],color='red',label='Mode1')\n",
        "\n",
        "\n",
        "plt.xlabel('City_mpg')   # label the x-axis\n",
        "plt.ylabel('Frequency')   # label the y-axis\n",
        "plt.legend()              # Plot the legend\n",
        "plt.show()"
      ],
      "id": "74fecd20",
      "execution_count": null,
      "outputs": []
    },
    {
      "cell_type": "markdown",
      "metadata": {
        "id": "8b830f41"
      },
      "source": [
        "#### Get Quantile 1, Quantile 2, Quantile 3\n",
        "- Quantile 1 :value below which 25% of the data lies\n",
        "- Quantile 2 :value below which 50% of the data lies\n",
        "- Quantile 3 :value below which 75% of the data lies"
      ],
      "id": "8b830f41"
    },
    {
      "cell_type": "markdown",
      "metadata": {
        "id": "2fdc35c9"
      },
      "source": [
        "Prints the Quantile 1 of the dataset for each variable/column."
      ],
      "id": "2fdc35c9"
    },
    {
      "cell_type": "code",
      "metadata": {
        "id": "afbc7129"
      },
      "source": [
        "print(\"Data_quantile(25%):\")\n",
        "print(auto.quantile(q=0.25))   # Prints the value below which 25% of the data lies"
      ],
      "id": "afbc7129",
      "execution_count": null,
      "outputs": []
    },
    {
      "cell_type": "markdown",
      "metadata": {
        "id": "a8c47357"
      },
      "source": [
        "Prints the Quantile 2 of the dataset for each variable/column."
      ],
      "id": "a8c47357"
    },
    {
      "cell_type": "code",
      "metadata": {
        "id": "39dc9964"
      },
      "source": [
        "print(\"Data_quantile(50%):\")\n",
        "print(auto.quantile(q=0.50))   # Prints the value below which 50% of the data lies"
      ],
      "id": "39dc9964",
      "execution_count": null,
      "outputs": []
    },
    {
      "cell_type": "markdown",
      "metadata": {
        "id": "87264208"
      },
      "source": [
        "Prints the Quantile 3 of the dataset for each variable/column."
      ],
      "id": "87264208"
    },
    {
      "cell_type": "code",
      "metadata": {
        "id": "58ac5318"
      },
      "source": [
        "print(\"Data_quantile(75%):\")\n",
        "print(auto.quantile(q=0.75)) # Prints the value below which 75% of the data lies"
      ],
      "id": "58ac5318",
      "execution_count": null,
      "outputs": []
    },
    {
      "cell_type": "markdown",
      "metadata": {
        "id": "1a526e01"
      },
      "source": [
        "#### Inter quartile region of a dataset: Quantile 3-Quantile 1"
      ],
      "id": "1a526e01"
    },
    {
      "cell_type": "code",
      "metadata": {
        "id": "0698d144"
      },
      "source": [
        "auto.quantile(0.75) - auto.quantile(0.25)"
      ],
      "id": "0698d144",
      "execution_count": null,
      "outputs": []
    },
    {
      "cell_type": "markdown",
      "metadata": {
        "id": "dcca307d"
      },
      "source": [
        "#### Variance "
      ],
      "id": "dcca307d"
    },
    {
      "cell_type": "markdown",
      "metadata": {
        "id": "3953f181"
      },
      "source": [
        "Prints the variance of the dataset for each variable/column"
      ],
      "id": "3953f181"
    },
    {
      "cell_type": "code",
      "metadata": {
        "id": "f3fad660"
      },
      "source": [
        "print(auto.var()) # the  output says how much was the data dispersion."
      ],
      "id": "f3fad660",
      "execution_count": null,
      "outputs": []
    },
    {
      "cell_type": "markdown",
      "metadata": {
        "id": "825b85d7"
      },
      "source": [
        "#### Standard Deviation"
      ],
      "id": "825b85d7"
    },
    {
      "cell_type": "markdown",
      "metadata": {
        "id": "ab54ed64"
      },
      "source": [
        "Prints the std of the dataset for each variable/column"
      ],
      "id": "ab54ed64"
    },
    {
      "cell_type": "code",
      "metadata": {
        "id": "83f759b7"
      },
      "source": [
        "print(auto.std()) #the output says how much the data deviated from the mean."
      ],
      "id": "83f759b7",
      "execution_count": null,
      "outputs": []
    },
    {
      "cell_type": "markdown",
      "metadata": {
        "id": "5e7a6ff1"
      },
      "source": [
        "### Covariance and Correlation"
      ],
      "id": "5e7a6ff1"
    },
    {
      "cell_type": "markdown",
      "metadata": {
        "id": "11c00b76"
      },
      "source": [
        "Covariance signifies the direction of the linear relationship between the two variables. By direction we mean if the variables are directly proportional or inversely proportional to each other."
      ],
      "id": "11c00b76"
    },
    {
      "cell_type": "markdown",
      "metadata": {
        "id": "23769f9c"
      },
      "source": [
        "Prints the covariance of each attribute against every other attribute"
      ],
      "id": "23769f9c"
    },
    {
      "cell_type": "code",
      "metadata": {
        "id": "7c59e9f3"
      },
      "source": [
        "auto.cov() "
      ],
      "id": "7c59e9f3",
      "execution_count": null,
      "outputs": []
    },
    {
      "cell_type": "markdown",
      "metadata": {
        "id": "62575889"
      },
      "source": [
        "Correlation is not only used to identify the type of relationship between the columns but also how strong they are.Thus, we can say the correlation values have standardized notions, whereas the covariance values are not standardized and cannot be used to compare how strong or weak the relationship is because the magnitude has no direct significance. "
      ],
      "id": "62575889"
    },
    {
      "cell_type": "markdown",
      "metadata": {
        "id": "540e92d0"
      },
      "source": [
        "Prints the correlation coefficient between every pair of attributes"
      ],
      "id": "540e92d0"
    },
    {
      "cell_type": "code",
      "metadata": {
        "id": "459c94bd"
      },
      "source": [
        "auto.corr() "
      ],
      "id": "459c94bd",
      "execution_count": null,
      "outputs": []
    },
    {
      "cell_type": "markdown",
      "metadata": {
        "id": "3828cabd"
      },
      "source": [
        "#### Another way to check for correlation is using a heat map"
      ],
      "id": "3828cabd"
    },
    {
      "cell_type": "code",
      "metadata": {
        "id": "7fe3590c"
      },
      "source": [
        "fig,ax = plt.subplots(figsize=(10, 10))   \n",
        "sns.heatmap(auto.corr(), ax=ax, annot=True, linewidths=0.05, fmt= '.2f',cmap=\"magma\") # the color intensity is based on \n",
        "plt.show()"
      ],
      "id": "7fe3590c",
      "execution_count": null,
      "outputs": []
    },
    {
      "cell_type": "markdown",
      "metadata": {
        "id": "3f360463"
      },
      "source": [
        "One of the perfect ways to visualize correlation between variables. The correlation between each variable is printed in each box. "
      ],
      "id": "3f360463"
    },
    {
      "cell_type": "markdown",
      "metadata": {
        "id": "60f15818"
      },
      "source": [
        "### Five point summary\n",
        "Gives us the mean, count, standard deviation, min, max, Quantile 1,Quantile 2 and Quantile 3 in a single command for all continuous variables"
      ],
      "id": "60f15818"
    },
    {
      "cell_type": "code",
      "metadata": {
        "id": "3c340e5e"
      },
      "source": [
        "auto.describe().T"
      ],
      "id": "3c340e5e",
      "execution_count": null,
      "outputs": []
    },
    {
      "cell_type": "markdown",
      "metadata": {
        "id": "8942b348"
      },
      "source": [
        "### How to deal with missing, duplicate and outlier values"
      ],
      "id": "8942b348"
    },
    {
      "cell_type": "markdown",
      "metadata": {
        "id": "1d19ac8c"
      },
      "source": [
        "Import the dataset named 'Automobile2.csv'"
      ],
      "id": "1d19ac8c"
    },
    {
      "cell_type": "code",
      "metadata": {
        "id": "402c5a65"
      },
      "source": [
        "auto  = pd.read_csv('Automobile2.csv') \n",
        "auto.head()"
      ],
      "id": "402c5a65",
      "execution_count": null,
      "outputs": []
    },
    {
      "cell_type": "markdown",
      "metadata": {
        "id": "1d7de53a"
      },
      "source": [
        "#### Removing duplicate variables"
      ],
      "id": "1d7de53a"
    },
    {
      "cell_type": "code",
      "metadata": {
        "id": "1b01a1db"
      },
      "source": [
        "dupes = auto.duplicated()\n",
        "sum(dupes)"
      ],
      "id": "1b01a1db",
      "execution_count": null,
      "outputs": []
    },
    {
      "cell_type": "markdown",
      "metadata": {
        "id": "f21a1b89"
      },
      "source": [
        "There are 3 duplicate values in our current dataset, use the following command to remove them"
      ],
      "id": "f21a1b89"
    },
    {
      "cell_type": "code",
      "metadata": {
        "id": "d1e2e7c4"
      },
      "source": [
        "auto =auto.drop_duplicates()"
      ],
      "id": "d1e2e7c4",
      "execution_count": null,
      "outputs": []
    },
    {
      "cell_type": "code",
      "metadata": {
        "id": "d4104bb8"
      },
      "source": [
        "dupes = auto.duplicated()\n",
        "sum(dupes)"
      ],
      "id": "d4104bb8",
      "execution_count": null,
      "outputs": []
    },
    {
      "cell_type": "markdown",
      "metadata": {
        "id": "e10961cd"
      },
      "source": [
        "No more duplicate values"
      ],
      "id": "e10961cd"
    },
    {
      "cell_type": "markdown",
      "metadata": {
        "id": "4c943cd7"
      },
      "source": [
        "#### To check for missing values"
      ],
      "id": "4c943cd7"
    },
    {
      "cell_type": "code",
      "metadata": {
        "id": "b49d4a39"
      },
      "source": [
        "auto.isnull().sum()"
      ],
      "id": "b49d4a39",
      "execution_count": null,
      "outputs": []
    },
    {
      "cell_type": "code",
      "metadata": {
        "id": "eb2c8e16"
      },
      "source": [
        "auto.isnull().values.any() "
      ],
      "id": "eb2c8e16",
      "execution_count": null,
      "outputs": []
    },
    {
      "cell_type": "code",
      "metadata": {
        "id": "61d1c1d5"
      },
      "source": [
        "pd.DataFrame( auto.isnull().sum(), columns= ['Number of missing values'])"
      ],
      "id": "61d1c1d5",
      "execution_count": null,
      "outputs": []
    },
    {
      "cell_type": "markdown",
      "metadata": {
        "id": "42e5584f"
      },
      "source": [
        "There are many values in which missing values can be replaced by different values which is often called\n",
        "as imputing missing values. It depends on your data and the problem you are trying to solve. In the below cell different types of missing value imputations are shown."
      ],
      "id": "42e5584f"
    },
    {
      "cell_type": "markdown",
      "metadata": {
        "id": "b39617f1"
      },
      "source": [
        "#### Column wise imputating missing value"
      ],
      "id": "b39617f1"
    },
    {
      "cell_type": "markdown",
      "metadata": {
        "id": "e5771fe1"
      },
      "source": [
        "Replacing NaN with a custom value"
      ],
      "id": "e5771fe1"
    },
    {
      "cell_type": "code",
      "metadata": {
        "id": "467609ac"
      },
      "source": [
        "\n",
        "auto['number_of_doors'].fillna('two', inplace = True)   \n",
        "\n",
        "\n"
      ],
      "id": "467609ac",
      "execution_count": null,
      "outputs": []
    },
    {
      "cell_type": "markdown",
      "metadata": {
        "id": "a01b92ff"
      },
      "source": [
        "Replace NaN values with the mean of the column"
      ],
      "id": "a01b92ff"
    },
    {
      "cell_type": "code",
      "metadata": {
        "id": "e1c2c6fb"
      },
      "source": [
        "\n",
        " auto['stroke'].fillna(auto.stroke.mean(), inplace = True)  "
      ],
      "id": "e1c2c6fb",
      "execution_count": null,
      "outputs": []
    },
    {
      "cell_type": "markdown",
      "metadata": {
        "id": "694b2ac8"
      },
      "source": [
        "Replace NaN values with the median of the column"
      ],
      "id": "694b2ac8"
    },
    {
      "cell_type": "code",
      "metadata": {
        "id": "87ed95af"
      },
      "source": [
        "\n",
        " \n",
        "auto['peak_rpm'].fillna(auto.peak_rpm.median(), inplace = True)  "
      ],
      "id": "87ed95af",
      "execution_count": null,
      "outputs": []
    },
    {
      "cell_type": "markdown",
      "metadata": {
        "id": "b46b7b6f"
      },
      "source": [
        "#### To apply a single method over the entire the dataframe rather than applying it for one column"
      ],
      "id": "b46b7b6f"
    },
    {
      "cell_type": "markdown",
      "metadata": {
        "id": "7383c829"
      },
      "source": [
        "medianFiller = lambda x: x.fillna(x.median())  \n",
        "\n",
        "auto = auto.apply(medianFiller,axis=0)\n"
      ],
      "id": "7383c829"
    },
    {
      "cell_type": "markdown",
      "metadata": {
        "id": "13efb952"
      },
      "source": [
        "#### Caution: Among the above four methods, using mean and mode or other numerical operations for imputing missing values requires the column to contain number (int or float). If it contains words(string)then only method is to use first method, fill that particular column with a custom value or drop that row."
      ],
      "id": "13efb952"
    },
    {
      "cell_type": "markdown",
      "metadata": {
        "id": "dfba4eb6"
      },
      "source": [
        "#### Drop rows with missing values. Use this method when we have a lot of data and missing a few will not affect the data size."
      ],
      "id": "dfba4eb6"
    },
    {
      "cell_type": "code",
      "metadata": {
        "id": "f5efb831"
      },
      "source": [
        "auto.dropna(inplace=True)  # Drops all the rows that have atleast one missing values\n",
        "auto.isnull().sum()"
      ],
      "id": "f5efb831",
      "execution_count": null,
      "outputs": []
    },
    {
      "cell_type": "markdown",
      "metadata": {
        "id": "f1695e83"
      },
      "source": [
        "No missing values detected"
      ],
      "id": "f1695e83"
    },
    {
      "cell_type": "markdown",
      "metadata": {
        "id": "c322a557"
      },
      "source": [
        "## Normalization"
      ],
      "id": "c322a557"
    },
    {
      "cell_type": "markdown",
      "metadata": {
        "id": "8b3c59f0"
      },
      "source": [
        "### Why do we need Normalization?"
      ],
      "id": "8b3c59f0"
    },
    {
      "cell_type": "markdown",
      "metadata": {
        "id": "f5c0771e"
      },
      "source": [
        "Each column can have different ranges, this can be seriously affect the performance of the model so we normalize the values so that all columns and variables have the same range(0,1)."
      ],
      "id": "f5c0771e"
    },
    {
      "cell_type": "code",
      "metadata": {
        "id": "51a7b10a"
      },
      "source": [
        "from sklearn.preprocessing import MinMaxScaler\n",
        "\n",
        "minmax_scale = MinMaxScaler()\n",
        "\n",
        "minmax_scale"
      ],
      "id": "51a7b10a",
      "execution_count": null,
      "outputs": []
    },
    {
      "cell_type": "markdown",
      "metadata": {
        "id": "fad8cbae"
      },
      "source": [
        "Using min-max normalization to normalize the columns bore and city_mpg"
      ],
      "id": "fad8cbae"
    },
    {
      "cell_type": "code",
      "metadata": {
        "id": "a3b33064"
      },
      "source": [
        "auto[['bore','city_mpg']] = minmax_scale.fit_transform(auto[['bore','city_mpg']])  #Add all those continuous variables that needed to be normalized"
      ],
      "id": "a3b33064",
      "execution_count": null,
      "outputs": []
    },
    {
      "cell_type": "markdown",
      "metadata": {
        "id": "3c1acc33"
      },
      "source": [
        "Now the range of column is from 0 to 1"
      ],
      "id": "3c1acc33"
    },
    {
      "cell_type": "code",
      "metadata": {
        "id": "9d7e4a1e"
      },
      "source": [
        "auto['city_mpg'].min(), auto['city_mpg'].max()"
      ],
      "id": "9d7e4a1e",
      "execution_count": null,
      "outputs": []
    },
    {
      "cell_type": "markdown",
      "metadata": {
        "id": "d1ed1cc9"
      },
      "source": [
        "## One hot encoding"
      ],
      "id": "d1ed1cc9"
    },
    {
      "cell_type": "markdown",
      "metadata": {
        "id": "971253df"
      },
      "source": [
        "One-Hot-Encoding is used to create dummry variables to replace the categories in a categorical variable into features of each category and represent it using 1 or 0 based on the presence or absence of the categorical value in the record. These categorical values hold object datatype values not int or float. For example in the above dataset, fuel_system,aspiration,number_of_doors, body_style, engine_location, drive_wheels, fuel_type are some of the columns that needs one hot enconding."
      ],
      "id": "971253df"
    },
    {
      "cell_type": "markdown",
      "metadata": {
        "id": "8394fcf1"
      },
      "source": [
        "We apply one hot encoding over one of the categorical variable 'Door' that holds object data type."
      ],
      "id": "8394fcf1"
    },
    {
      "cell_type": "code",
      "metadata": {
        "id": "78e023b2"
      },
      "source": [
        "df_dummies= pd.get_dummies(auto, prefix='Doors', columns=['number_of_doors'])"
      ],
      "id": "78e023b2",
      "execution_count": null,
      "outputs": []
    },
    {
      "cell_type": "code",
      "metadata": {
        "scrolled": true,
        "id": "246bc4c3"
      },
      "source": [
        "df_dummies.head()"
      ],
      "id": "246bc4c3",
      "execution_count": null,
      "outputs": []
    },
    {
      "cell_type": "markdown",
      "metadata": {
        "id": "6361cb58"
      },
      "source": [
        "#### Once one hot encoding is done median method to impute missing values can be performed. "
      ],
      "id": "6361cb58"
    },
    {
      "cell_type": "markdown",
      "metadata": {
        "id": "d09e6460"
      },
      "source": [
        "# Hands-On session -I Numpy"
      ],
      "id": "d09e6460"
    },
    {
      "cell_type": "markdown",
      "metadata": {
        "id": "3e0d9840"
      },
      "source": [
        "Q1: Create a 3x3 matrix containing the elements [1,2,3,4,5,6,7,8,9], print it's size, shape, and type."
      ],
      "id": "3e0d9840"
    },
    {
      "cell_type": "code",
      "metadata": {
        "id": "ea92aafc"
      },
      "source": [
        ""
      ],
      "id": "ea92aafc",
      "execution_count": null,
      "outputs": []
    },
    {
      "cell_type": "markdown",
      "metadata": {
        "id": "9666569d"
      },
      "source": [
        "Q2: Create a 3x4 matrix using np.arange, print it's size, shape. \n",
        "\n",
        "\n",
        "Hint: np.arange(start,end,step).\n",
        "\n",
        "start (int):start of the sequence. If not intialized 0 will be considered as default.\n",
        "\n",
        "end(int):end of sequence (Will end before this number).  \n",
        "\n",
        "step(int): Spacing between two adjacent values. Optional, 1 will be considered as default.\n"
      ],
      "id": "9666569d"
    },
    {
      "cell_type": "code",
      "metadata": {
        "id": "86c1577c"
      },
      "source": [
        ""
      ],
      "id": "86c1577c",
      "execution_count": null,
      "outputs": []
    },
    {
      "cell_type": "markdown",
      "metadata": {
        "id": "8d12544c"
      },
      "source": [
        "Q3: Create a 2x2 matrix with all elements as 0. Hint: use np.zeros((m,n))."
      ],
      "id": "8d12544c"
    },
    {
      "cell_type": "code",
      "metadata": {
        "id": "9b14c6d4"
      },
      "source": [
        ""
      ],
      "id": "9b14c6d4",
      "execution_count": null,
      "outputs": []
    },
    {
      "cell_type": "markdown",
      "metadata": {
        "id": "b5568e21"
      },
      "source": [
        "Q4: Slice the center 2x2 matrix from the 4 x 4 matrix. Create a 4x4 matrix firstly."
      ],
      "id": "b5568e21"
    },
    {
      "cell_type": "code",
      "metadata": {
        "id": "fcd3e44a"
      },
      "source": [
        ""
      ],
      "id": "fcd3e44a",
      "execution_count": null,
      "outputs": []
    },
    {
      "cell_type": "markdown",
      "metadata": {
        "id": "551ea4ed"
      },
      "source": [
        "Q5: Solve the following formula a * c = b. a and  b are given find c.  \n",
        "Hint: c= b x a.inverse"
      ],
      "id": "551ea4ed"
    },
    {
      "cell_type": "code",
      "metadata": {
        "scrolled": true,
        "id": "3c8a13dd"
      },
      "source": [
        "a= np.array([[2,6],[8,4]])\n",
        "b= np.array([[1,3],[9,5]])\n"
      ],
      "id": "3c8a13dd",
      "execution_count": null,
      "outputs": []
    },
    {
      "cell_type": "code",
      "metadata": {
        "id": "73ffa4d1"
      },
      "source": [
        ""
      ],
      "id": "73ffa4d1",
      "execution_count": null,
      "outputs": []
    },
    {
      "cell_type": "markdown",
      "metadata": {
        "id": "30343bf0"
      },
      "source": [
        "# Hands-On session -II Pandas"
      ],
      "id": "30343bf0"
    },
    {
      "cell_type": "markdown",
      "metadata": {
        "id": "ca0b847e"
      },
      "source": [
        "Q1: Load the csv file called 'cars.csv' into the notebook."
      ],
      "id": "ca0b847e"
    },
    {
      "cell_type": "code",
      "metadata": {
        "id": "9e4b7584"
      },
      "source": [
        ""
      ],
      "id": "9e4b7584",
      "execution_count": null,
      "outputs": []
    },
    {
      "cell_type": "markdown",
      "metadata": {
        "id": "fe469986"
      },
      "source": [
        "Q2: Explore the dimesions and size."
      ],
      "id": "fe469986"
    },
    {
      "cell_type": "code",
      "metadata": {
        "id": "eef4f7a2"
      },
      "source": [
        ""
      ],
      "id": "eef4f7a2",
      "execution_count": null,
      "outputs": []
    },
    {
      "cell_type": "markdown",
      "metadata": {
        "id": "240bc891"
      },
      "source": [
        "Q3: Print the last 20 rows."
      ],
      "id": "240bc891"
    },
    {
      "cell_type": "code",
      "metadata": {
        "id": "4125d9b5"
      },
      "source": [
        ""
      ],
      "id": "4125d9b5",
      "execution_count": null,
      "outputs": []
    },
    {
      "cell_type": "markdown",
      "metadata": {
        "id": "2ab5ca61"
      },
      "source": [
        "Q4: Slice the rows: 15 to 29 and keep it as a seperate dataframe."
      ],
      "id": "2ab5ca61"
    },
    {
      "cell_type": "code",
      "metadata": {
        "id": "1cfc4874"
      },
      "source": [
        ""
      ],
      "id": "1cfc4874",
      "execution_count": null,
      "outputs": []
    },
    {
      "cell_type": "markdown",
      "metadata": {
        "id": "311fffa9"
      },
      "source": [
        "Q5: Slice the last two columns and keep it as a seperate dataframe."
      ],
      "id": "311fffa9"
    },
    {
      "cell_type": "code",
      "metadata": {
        "id": "2d6671b8"
      },
      "source": [
        ""
      ],
      "id": "2d6671b8",
      "execution_count": null,
      "outputs": []
    },
    {
      "cell_type": "markdown",
      "metadata": {
        "id": "ec92ed63"
      },
      "source": [
        "# Hands-On session -III Visualization"
      ],
      "id": "ec92ed63"
    },
    {
      "cell_type": "markdown",
      "metadata": {
        "id": "35e82b35"
      },
      "source": [
        "Load the previous dataset 'cars.csv'. It has both categorical and continuous variables. Plot the following:"
      ],
      "id": "35e82b35"
    },
    {
      "cell_type": "markdown",
      "metadata": {
        "id": "cadfd887"
      },
      "source": [
        "Q1. Pair plot of all variables (continuous)."
      ],
      "id": "cadfd887"
    },
    {
      "cell_type": "code",
      "metadata": {
        "id": "ae0225ad"
      },
      "source": [
        ""
      ],
      "id": "ae0225ad",
      "execution_count": null,
      "outputs": []
    },
    {
      "cell_type": "markdown",
      "metadata": {
        "id": "619f86fd"
      },
      "source": [
        "Q2. Plot any two countplots using (categorical variables)."
      ],
      "id": "619f86fd"
    },
    {
      "cell_type": "code",
      "metadata": {
        "id": "52de739c"
      },
      "source": [
        ""
      ],
      "id": "52de739c",
      "execution_count": null,
      "outputs": []
    },
    {
      "cell_type": "markdown",
      "metadata": {
        "id": "91d0fc98"
      },
      "source": [
        "Q3. Plot any Two Categorical vs continuous variable plots."
      ],
      "id": "91d0fc98"
    },
    {
      "cell_type": "code",
      "metadata": {
        "id": "a4d60689"
      },
      "source": [
        ""
      ],
      "id": "a4d60689",
      "execution_count": null,
      "outputs": []
    },
    {
      "cell_type": "markdown",
      "metadata": {
        "id": "79290c10"
      },
      "source": [
        "Q4. Any other plot of your choice and variable from the dataset."
      ],
      "id": "79290c10"
    },
    {
      "cell_type": "code",
      "metadata": {
        "id": "69d7e69f"
      },
      "source": [
        ""
      ],
      "id": "69d7e69f",
      "execution_count": null,
      "outputs": []
    },
    {
      "cell_type": "markdown",
      "metadata": {
        "id": "8638a138"
      },
      "source": [
        "# Hands-On session -IV Exploratory Data Analysis"
      ],
      "id": "8638a138"
    },
    {
      "cell_type": "markdown",
      "metadata": {
        "id": "3637cd02"
      },
      "source": [
        "Load the Admission_Predict.csv dataset and perform all the above operation.\n",
        "\n",
        "Details about the dataset:\n",
        "This dataset is used for prediction of Graduate Admissions. It has the following attributes:\n",
        "\n",
        "    1. GRE Scores ( 290 to 340 ) \n",
        "    2. TOEFL Scores ( 92 to 120 ) \n",
        "    3. University Rating ( 1 to 5 )\n",
        "    4. Statement of Purpose ( 1 to 5 )  \n",
        "    5. Letter of Recommendation Strength ( 1 to 5 ) \n",
        "    6. Undergraduate GPA ( 6.8 to 10 ) \n",
        "    7. Research Experience ( 0 or 1 ) \n",
        "    8. Chance of Admit ( ranging from  0.34 to 0.97)\n",
        "    \n"
      ],
      "id": "3637cd02"
    },
    {
      "cell_type": "markdown",
      "metadata": {
        "id": "ca0aa34f"
      },
      "source": [
        "Q1. Import the necessary libraries: numpy,pandas,matplotlib,seaborn."
      ],
      "id": "ca0aa34f"
    },
    {
      "cell_type": "code",
      "metadata": {
        "id": "91543468"
      },
      "source": [
        ""
      ],
      "id": "91543468",
      "execution_count": null,
      "outputs": []
    },
    {
      "cell_type": "markdown",
      "metadata": {
        "id": "e2e57710"
      },
      "source": [
        "Q2. Load the csv data using pd.read_csv function. Print the shape and dimension of the data using df.size and df.shape. Remove unecesasry rows using function df.drop('col_name',axis=1) and print column names using df.columns function."
      ],
      "id": "e2e57710"
    },
    {
      "cell_type": "code",
      "metadata": {
        "id": "138f0608"
      },
      "source": [
        ""
      ],
      "id": "138f0608",
      "execution_count": null,
      "outputs": []
    },
    {
      "cell_type": "markdown",
      "metadata": {
        "id": "cd4ffd62"
      },
      "source": [
        "Optional: Try to implement commands such as:\n",
        "- df.info,\n",
        "- df.nunique,\n",
        "- df['col'].value_counts()"
      ],
      "id": "cd4ffd62"
    },
    {
      "cell_type": "markdown",
      "metadata": {
        "id": "84c73050"
      },
      "source": [
        "Q3. Get descriptive statistics( mean, mode, median, co-realation, co-variance, Quantile 1,Quantile 2,Quantile 3 etc) from the dataset.\n",
        "Try to use these commands:\n",
        "- df.mean,\n",
        "- df.mode,\n",
        "- df.median,\n",
        "- df.describe, \n",
        "- df.quantile(q=0.25%), \n",
        "- df.corr()\n",
        "- df.cov()\n",
        "Refer to the Exploratory Data Analysis section in this notebook. "
      ],
      "id": "84c73050"
    },
    {
      "cell_type": "code",
      "metadata": {
        "id": "6d490bcc"
      },
      "source": [
        ""
      ],
      "id": "6d490bcc",
      "execution_count": null,
      "outputs": []
    },
    {
      "cell_type": "markdown",
      "metadata": {
        "id": "6b00888a"
      },
      "source": [
        "Q4. Use the various seaborn libraries to plot the columns from dataset. Use the following:\n",
        "\n",
        "- sns.distplot()\n",
        "- sns.pairplot()\n",
        "- sns.scatterplot()\n",
        "- sns.jointplot()\n",
        "- sns.countplot()\n",
        "- sns.boxplot\n",
        "\n",
        "Use any number of combinations or choices."
      ],
      "id": "6b00888a"
    },
    {
      "cell_type": "code",
      "metadata": {
        "id": "6Bu62KQjr7Kx"
      },
      "source": [
        ""
      ],
      "id": "6Bu62KQjr7Kx",
      "execution_count": null,
      "outputs": []
    },
    {
      "cell_type": "markdown",
      "metadata": {
        "id": "771ff7e3"
      },
      "source": [
        "Q5. Remove duplicate values from the dataset if necesasy.  \n",
        "Use df.drop_duplicates() dunction."
      ],
      "id": "771ff7e3"
    },
    {
      "cell_type": "code",
      "metadata": {
        "id": "e57fe606"
      },
      "source": [
        ""
      ],
      "id": "e57fe606",
      "execution_count": null,
      "outputs": []
    },
    {
      "cell_type": "markdown",
      "metadata": {
        "id": "c7439374"
      },
      "source": [
        "Q6. Perform one hot encoding function, if required. Use pd.get_dummies() function."
      ],
      "id": "c7439374"
    },
    {
      "cell_type": "code",
      "metadata": {
        "id": "8e204b97"
      },
      "source": [
        ""
      ],
      "id": "8e204b97",
      "execution_count": null,
      "outputs": []
    },
    {
      "cell_type": "markdown",
      "metadata": {
        "id": "88bf0645"
      },
      "source": [
        "Q7. Identify and Impute any missing values in the dataset. Use either:\n",
        "- df['col'].fillna(): mean or median or custom value\n",
        "- Or Lambda dunction\n",
        "Refer to the impute missing value section."
      ],
      "id": "88bf0645"
    },
    {
      "cell_type": "code",
      "metadata": {
        "id": "673b3926"
      },
      "source": [
        ""
      ],
      "id": "673b3926",
      "execution_count": null,
      "outputs": []
    },
    {
      "cell_type": "markdown",
      "metadata": {
        "id": "8edfa854"
      },
      "source": [
        "Q8. Normalize the values in the column. Use the min_max normalization method mentioned in the notebook above. "
      ],
      "id": "8edfa854"
    },
    {
      "cell_type": "code",
      "metadata": {
        "id": "af128daf"
      },
      "source": [
        ""
      ],
      "id": "af128daf",
      "execution_count": null,
      "outputs": []
    }
  ]
}