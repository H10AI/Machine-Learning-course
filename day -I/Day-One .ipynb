{
 "cells": [
  {
   "cell_type": "markdown",
   "id": "0f2f6cc1",
   "metadata": {},
   "source": [
    "# Install Libraries(If required)"
   ]
  },
  {
   "cell_type": "code",
   "execution_count": null,
   "id": "b6c40501",
   "metadata": {},
   "outputs": [],
   "source": [
    "# !pip install numpy"
   ]
  },
  {
   "cell_type": "code",
   "execution_count": null,
   "id": "6f2981b4",
   "metadata": {},
   "outputs": [],
   "source": [
    "# !pip install seaborn"
   ]
  },
  {
   "cell_type": "code",
   "execution_count": null,
   "id": "bafdff54",
   "metadata": {},
   "outputs": [],
   "source": [
    "# !pip install pandas"
   ]
  },
  {
   "cell_type": "markdown",
   "id": "4e09398c",
   "metadata": {},
   "source": [
    "# Numpy"
   ]
  },
  {
   "cell_type": "markdown",
   "id": "a3728695",
   "metadata": {},
   "source": [
    "Numpy operates on *nd* arrays. These are similar to lists but contains homogenous elements but easier to store 2-d data."
   ]
  },
  {
   "cell_type": "markdown",
   "id": "f5679619",
   "metadata": {},
   "source": [
    "Import the library"
   ]
  },
  {
   "cell_type": "code",
   "execution_count": null,
   "id": "fd9ce287",
   "metadata": {},
   "outputs": [],
   "source": [
    "import numpy as np"
   ]
  },
  {
   "cell_type": "markdown",
   "id": "7354ef44",
   "metadata": {},
   "source": [
    "## How to initialize a numpy array"
   ]
  },
  {
   "cell_type": "markdown",
   "id": "68a281a3",
   "metadata": {},
   "source": [
    "### Method 1: Initialize a list and convert into an array"
   ]
  },
  {
   "cell_type": "markdown",
   "id": "bfb141fd",
   "metadata": {},
   "source": [
    "First we create a list, then using the np.array function we convert the list to a numpy array and store it in a variable. Later using the inbuilt functions we print it's type, shape, size and the data type the array contains."
   ]
  },
  {
   "cell_type": "code",
   "execution_count": null,
   "id": "679ea984",
   "metadata": {},
   "outputs": [],
   "source": [
    "l1=[1,2,3,4]\n",
    "n1=np.array(l1)\n",
    "print(n1)\n",
    "print(type(n1))\n",
    "print(n1.shape)\n",
    "print(n1.size)\n",
    "print(n1.dtype)"
   ]
  },
  {
   "cell_type": "markdown",
   "id": "6c35d568",
   "metadata": {},
   "source": [
    "For 2D array using list, Initiliaze two lists and np.array() them. The number of elements in both the lists must be same"
   ]
  },
  {
   "cell_type": "markdown",
   "id": "4281033a",
   "metadata": {},
   "source": [
    "Just like the previous method but here we create two lists, then put these lists in a square bracket inside the np.array function."
   ]
  },
  {
   "cell_type": "code",
   "execution_count": null,
   "id": "4a762b27",
   "metadata": {},
   "outputs": [],
   "source": [
    "l1=[1,2,3,4]\n",
    "l2=[5,6,7,8]\n",
    "n1=np.array([l1,l2])\n",
    "print(n1)\n",
    "print(type(n1))\n",
    "print(n1.shape)\n",
    "print(n1.size)\n",
    "print(n1.dtype)"
   ]
  },
  {
   "cell_type": "markdown",
   "id": "12b06526",
   "metadata": {},
   "source": [
    "### Method 2: Initialize as a np array itself."
   ]
  },
  {
   "cell_type": "markdown",
   "id": "23e325b5",
   "metadata": {},
   "source": [
    "We take two lists [1,2,3] and [4,5,6], put them together inside a square bracket inside np.array function and store it in a variable. "
   ]
  },
  {
   "cell_type": "code",
   "execution_count": null,
   "id": "e0035adb",
   "metadata": {},
   "outputs": [],
   "source": [
    "n2=np.array([[1,2,3],\n",
    "           [4,5,6]])\n",
    "print(n2)\n",
    "print(type(n2))\n",
    "print(n2.shape)\n",
    "print(n2.size)\n",
    "print(n2.dtype)"
   ]
  },
  {
   "cell_type": "markdown",
   "id": "af2ec217",
   "metadata": {},
   "source": [
    "### Method 3: Initialize an array using np.linspace and reshape them"
   ]
  },
  {
   "cell_type": "markdown",
   "id": "fecb8da3",
   "metadata": {},
   "source": [
    "np.linspace(start,end,num, endpoint= False/True)  \n",
    "\n",
    "start: Mention the starting number of the sequence \n",
    "\n",
    "end: Mention the ending number of the sequence \n",
    "\n",
    "num: Mention the Number of numbers that the sequencce should have  \n",
    "\n",
    "endpoint: Whether the end number must be included or not."
   ]
  },
  {
   "cell_type": "code",
   "execution_count": null,
   "id": "9ac67787",
   "metadata": {},
   "outputs": [],
   "source": [
    "n2=np.linspace(1,10,10,endpoint=True)\n",
    "print(n2)\n",
    "n2=np.resize(n2,(2,5))\n",
    "print(n2)"
   ]
  },
  {
   "cell_type": "markdown",
   "id": "66ed3a56",
   "metadata": {},
   "source": [
    "## How to create an identity matrix"
   ]
  },
  {
   "cell_type": "markdown",
   "id": "914ab36f",
   "metadata": {},
   "source": [
    "Command: np.identity(n), Returns an identity array of dimension n x n,  with its main diagonal set to one, and all other elements 0. "
   ]
  },
  {
   "cell_type": "code",
   "execution_count": null,
   "id": "728aed8a",
   "metadata": {},
   "outputs": [],
   "source": [
    "n3=np.identity(3)\n",
    "print(n3)"
   ]
  },
  {
   "cell_type": "markdown",
   "id": "014c99e6",
   "metadata": {},
   "source": [
    "## How to choose a particular elements or slice a subset from the whole matrix"
   ]
  },
  {
   "cell_type": "code",
   "execution_count": null,
   "id": "bd8b1861",
   "metadata": {},
   "outputs": [],
   "source": [
    "n4=np.array([[1,2,3,4],\n",
    "             [5,6,7,8],\n",
    "             [9,10,11,12],\n",
    "             [13,14,15,16]])\n",
    "print(n4)\n",
    "print(n4.shape)"
   ]
  },
  {
   "cell_type": "markdown",
   "id": "0a385873",
   "metadata": {},
   "source": [
    "n4[row,columns]"
   ]
  },
  {
   "cell_type": "markdown",
   "id": "0fd18816",
   "metadata": {},
   "source": [
    "### To choose one or two rows only"
   ]
  },
  {
   "cell_type": "markdown",
   "id": "8812a8a4",
   "metadata": {},
   "source": [
    "#### CAUTION: Array and pandas index start from 0. Which means for the first row, the index is 0 and for second row the index is 1. We call out rows in numpy and pandas using their row index. "
   ]
  },
  {
   "cell_type": "markdown",
   "id": "81541d16",
   "metadata": {},
   "source": [
    "In the example below, we need the third row, so mention the numpy name and in square brackets mention the row index. For third row the row index is 2."
   ]
  },
  {
   "cell_type": "code",
   "execution_count": null,
   "id": "68dd4305",
   "metadata": {},
   "outputs": [],
   "source": [
    "n4[2]"
   ]
  },
  {
   "cell_type": "markdown",
   "id": "e48006d9",
   "metadata": {},
   "source": [
    "To choose all the rows till a particular row use a colon before row index. This will select all the rows from zero to the row before the specified row. In the below example, we select the first two rows. n4[:a] means from first row index to a-1 row index. And n[:] means all rows and columns. "
   ]
  },
  {
   "cell_type": "code",
   "execution_count": null,
   "id": "eaa33917",
   "metadata": {},
   "outputs": [],
   "source": [
    "n4[:2]"
   ]
  },
  {
   "cell_type": "markdown",
   "id": "18b216c0",
   "metadata": {},
   "source": [
    "### To choose one or two columns"
   ]
  },
  {
   "cell_type": "markdown",
   "id": "24adcc94",
   "metadata": {},
   "source": [
    "The value after the comma is for the column index. Here we are selecting third column ( index 2) of all rows."
   ]
  },
  {
   "cell_type": "code",
   "execution_count": null,
   "id": "88814924",
   "metadata": {},
   "outputs": [],
   "source": [
    "n4[:,2]"
   ]
  },
  {
   "cell_type": "markdown",
   "id": "9c2460e5",
   "metadata": {},
   "source": [
    "Similarly like rows to select more than one column, use colon followed by the columns index. This will select all the columns from zero index to the previous column mentioned in the column index. "
   ]
  },
  {
   "cell_type": "code",
   "execution_count": null,
   "id": "344c1ceb",
   "metadata": {},
   "outputs": [],
   "source": [
    "n4[:,:3]"
   ]
  },
  {
   "cell_type": "markdown",
   "id": "fb453830",
   "metadata": {},
   "source": [
    "### Slice a 2x2 matrix from the whole matrix"
   ]
  },
  {
   "cell_type": "markdown",
   "id": "f9f4d5a7",
   "metadata": {},
   "source": [
    "Here we are mentioning to start slicing 'n[2:4,' from the 2nd row index (3rd row) to end before the 4th row index, which is 3rd row index(4th row) . Andin the column section ',:2]' we are mentioning from 0th column index (1st column) to before the 2nd column index which is 1st column index(2nd column) "
   ]
  },
  {
   "cell_type": "code",
   "execution_count": null,
   "id": "ba62fc70",
   "metadata": {},
   "outputs": [],
   "source": [
    "n4[2:4,:2]"
   ]
  },
  {
   "cell_type": "markdown",
   "id": "8dfddb51",
   "metadata": {},
   "source": [
    "## Transpose and inverse functionality"
   ]
  },
  {
   "cell_type": "markdown",
   "id": "68f293e2",
   "metadata": {},
   "source": [
    "np.arange(4) will create a 1-D array : [1,2,3,4] but using the reshape function we transform it into what ever shape we want. But keep in mind, in reshape(m,n) m x n must be equal to the number of elements in the array. Here 2x2 =4 = number of elements in array. Initilizing 3x3 will lead to error"
   ]
  },
  {
   "cell_type": "code",
   "execution_count": null,
   "id": "e68d21ad",
   "metadata": {},
   "outputs": [],
   "source": [
    "x = np.arange(4).reshape((2,2))"
   ]
  },
  {
   "cell_type": "code",
   "execution_count": null,
   "id": "1337fe68",
   "metadata": {},
   "outputs": [],
   "source": [
    "print(x)"
   ]
  },
  {
   "cell_type": "markdown",
   "id": "7881b588",
   "metadata": {},
   "source": [
    "Specify the numpy array you want to transpose inside the round brackets of transpose function"
   ]
  },
  {
   "cell_type": "code",
   "execution_count": null,
   "id": "9b6423ac",
   "metadata": {},
   "outputs": [],
   "source": [
    "y=np.transpose(x)"
   ]
  },
  {
   "cell_type": "code",
   "execution_count": null,
   "id": "d62423ab",
   "metadata": {},
   "outputs": [],
   "source": [
    "print(y)"
   ]
  },
  {
   "cell_type": "code",
   "execution_count": null,
   "id": "2836da07",
   "metadata": {},
   "outputs": [],
   "source": [
    "x=np.arange(16).reshape((4,4))\n",
    "x"
   ]
  },
  {
   "cell_type": "markdown",
   "id": "9aab7ede",
   "metadata": {},
   "source": [
    "Specify the numpy array you want to take inverse of inside the round brackets of linalg.inv() function"
   ]
  },
  {
   "cell_type": "code",
   "execution_count": null,
   "id": "17db04a6",
   "metadata": {},
   "outputs": [],
   "source": [
    "y = np.linalg.inv(x)\n",
    "print(y)"
   ]
  },
  {
   "cell_type": "markdown",
   "id": "d0c22ef9",
   "metadata": {},
   "source": [
    "## Multiplication of matrix using numpy"
   ]
  },
  {
   "cell_type": "markdown",
   "id": "204a658c",
   "metadata": {},
   "source": [
    "### Two methods:\n",
    "\n"
   ]
  },
  {
   "cell_type": "markdown",
   "id": "a5ab2b8c",
   "metadata": {},
   "source": [
    "np.dot(a,b): Use if both a and b are 2-D array(matrix)"
   ]
  },
  {
   "cell_type": "markdown",
   "id": "aa9dbcf6",
   "metadata": {},
   "source": [
    "np.matmul(a,b): Use if either of the two array are scalar or of different dimension."
   ]
  },
  {
   "cell_type": "code",
   "execution_count": null,
   "id": "28b9be78",
   "metadata": {},
   "outputs": [],
   "source": [
    "a = np.array([[1, 0], [0, 1]])\n",
    "b = np.array([[4, 1], [2, 2]])"
   ]
  },
  {
   "cell_type": "code",
   "execution_count": null,
   "id": "77846cba",
   "metadata": {},
   "outputs": [],
   "source": [
    "c=np.dot(a,b)\n",
    "c"
   ]
  },
  {
   "cell_type": "code",
   "execution_count": null,
   "id": "a72f2259",
   "metadata": {},
   "outputs": [],
   "source": [
    "a = np.array([[1, 0],\n",
    "              [0, 1]])\n",
    "b = np.array([1, 2])"
   ]
  },
  {
   "cell_type": "code",
   "execution_count": null,
   "id": "60af38d5",
   "metadata": {},
   "outputs": [],
   "source": [
    "c=np.matmul(a,b)\n",
    "c"
   ]
  },
  {
   "cell_type": "markdown",
   "id": "5233f2f8",
   "metadata": {},
   "source": [
    "# Pandas"
   ]
  },
  {
   "cell_type": "markdown",
   "id": "0764d683",
   "metadata": {},
   "source": [
    "## Series"
   ]
  },
  {
   "cell_type": "markdown",
   "id": "d49ab4b2",
   "metadata": {},
   "source": [
    "Pandas series are almost same as nd arrays in numpy, with a additional inferencing ability with custom labels like keys in a dictionary in python.\n",
    "\n"
   ]
  },
  {
   "cell_type": "markdown",
   "id": "582f4a80",
   "metadata": {},
   "source": [
    "Initializing a series"
   ]
  },
  {
   "cell_type": "code",
   "execution_count": null,
   "id": "96db032a",
   "metadata": {},
   "outputs": [],
   "source": [
    "import numpy as np\n",
    "import pandas as pd"
   ]
  },
  {
   "cell_type": "code",
   "execution_count": null,
   "id": "1acce8ab",
   "metadata": {},
   "outputs": [],
   "source": [
    "series2 = pd.Series(data = [1,2,3], index = ['key1', 'key2', 'key3'])\n",
    "series2"
   ]
  },
  {
   "cell_type": "markdown",
   "id": "915e8e39",
   "metadata": {},
   "source": [
    "## Dataframe"
   ]
  },
  {
   "cell_type": "markdown",
   "id": "7ea20073",
   "metadata": {},
   "source": [
    "A dataframe is a table with labeled columns which can hold different types of data in each column."
   ]
  },
  {
   "cell_type": "markdown",
   "id": "898497b9",
   "metadata": {},
   "source": [
    "Initializing a dataframe"
   ]
  },
  {
   "cell_type": "markdown",
   "id": "984c2be0",
   "metadata": {},
   "source": [
    "We are initilizaing a dictionary first. Each key is a column name and each key has a list as it's value. And then we convert it into a dataframe"
   ]
  },
  {
   "cell_type": "code",
   "execution_count": null,
   "id": "2a39c73a",
   "metadata": {},
   "outputs": [],
   "source": [
    "d1 = {'a': [1,2,3], 'b': [3,4,5], 'c':[6,7,8] }\n",
    "df1 = pd.DataFrame(d1)\n",
    "df1"
   ]
  },
  {
   "cell_type": "markdown",
   "id": "7606c3cb",
   "metadata": {},
   "source": [
    "## Importing a csv file as df"
   ]
  },
  {
   "cell_type": "markdown",
   "id": "5e6b681c",
   "metadata": {},
   "source": [
    "Command: df=pd.read_csv(‘path_to_file/file.csv’, names=[], header= 0/None, index_col=0)  \n",
    "\n",
    "For json file: df=pd.read_json(‘path_to_file/file.json’)\n",
    "\n",
    "Use this command once you have loaded the dataset into your colab notebook "
   ]
  },
  {
   "cell_type": "code",
   "execution_count": null,
   "id": "f3f212e1",
   "metadata": {},
   "outputs": [],
   "source": [
    "df = pd.read_csv('auto-mpg.csv')\n"
   ]
  },
  {
   "cell_type": "markdown",
   "id": "05bbfa2d",
   "metadata": {},
   "source": [
    "## To view the first and last entries"
   ]
  },
  {
   "cell_type": "markdown",
   "id": "71bc8f82",
   "metadata": {},
   "source": [
    "df.head(n): Display the first n number of rows (Default: 5 rows)  \n",
    "df.tail(n): Display the bottom n number of rows(Default: 5 rows)\n"
   ]
  },
  {
   "cell_type": "markdown",
   "id": "489f6210",
   "metadata": {},
   "source": [
    "Display the first 5 rows"
   ]
  },
  {
   "cell_type": "code",
   "execution_count": null,
   "id": "85779e3c",
   "metadata": {},
   "outputs": [],
   "source": [
    "df.head()"
   ]
  },
  {
   "cell_type": "markdown",
   "id": "690f0a0a",
   "metadata": {},
   "source": [
    "Display the last 5 rows"
   ]
  },
  {
   "cell_type": "code",
   "execution_count": null,
   "id": "15634aaf",
   "metadata": {},
   "outputs": [],
   "source": [
    "df.tail()"
   ]
  },
  {
   "cell_type": "markdown",
   "id": "2bf562ae",
   "metadata": {},
   "source": [
    "## To save a df into a csv file"
   ]
  },
  {
   "cell_type": "markdown",
   "id": "35e0b5c0",
   "metadata": {},
   "source": [
    "-df.to_csv('/location/name.cav',index=False)  \n",
    "Index= False means that the index used in dataframe will not be saved as a separate column in the csv file"
   ]
  },
  {
   "cell_type": "code",
   "execution_count": null,
   "id": "7d771c30",
   "metadata": {},
   "outputs": [],
   "source": [
    "df.to_csv('cars.csv',index=False)"
   ]
  },
  {
   "cell_type": "markdown",
   "id": "5dc5ffa5",
   "metadata": {},
   "source": [
    "### To view the column names"
   ]
  },
  {
   "cell_type": "markdown",
   "id": "5a0324d5",
   "metadata": {},
   "source": [
    "Displays the column names in a dataset"
   ]
  },
  {
   "cell_type": "code",
   "execution_count": null,
   "id": "c7883ae8",
   "metadata": {},
   "outputs": [],
   "source": [
    "df.columns"
   ]
  },
  {
   "cell_type": "markdown",
   "id": "5eec6102",
   "metadata": {},
   "source": [
    "## To select one or more columns"
   ]
  },
  {
   "cell_type": "markdown",
   "id": "58409ae1",
   "metadata": {},
   "source": [
    "-df[‘col_name]  \n",
    "-df[[‘col1’,’col2’]]\n"
   ]
  },
  {
   "cell_type": "markdown",
   "id": "151a495d",
   "metadata": {},
   "source": [
    "Printing the first 5 rows of mpg column of dataset"
   ]
  },
  {
   "cell_type": "code",
   "execution_count": null,
   "id": "fb6cdd87",
   "metadata": {},
   "outputs": [],
   "source": [
    "df['mpg'].head()"
   ]
  },
  {
   "cell_type": "markdown",
   "id": "7542b0f8",
   "metadata": {},
   "source": [
    "Printing the first 10 rows of the mpg and origin columns of the dataset"
   ]
  },
  {
   "cell_type": "code",
   "execution_count": null,
   "id": "1dbd2e81",
   "metadata": {},
   "outputs": [],
   "source": [
    "df[['mpg','origin']].head(10)"
   ]
  },
  {
   "cell_type": "markdown",
   "id": "d03264e3",
   "metadata": {},
   "source": [
    "## To copy one dataframe to another"
   ]
  },
  {
   "cell_type": "markdown",
   "id": "19b71865",
   "metadata": {},
   "source": [
    "Command: df2=df1.copy(deep=True)\n"
   ]
  },
  {
   "cell_type": "markdown",
   "id": "c16da55a",
   "metadata": {},
   "source": [
    "Copy dataframe from df to df2. With deep argument= True, the changes done to dataset in df2 will not affect df. If deep= False, any changes in df2 will affect df"
   ]
  },
  {
   "cell_type": "code",
   "execution_count": null,
   "id": "1da1167e",
   "metadata": {},
   "outputs": [],
   "source": [
    "df2=df.copy(deep=True)"
   ]
  },
  {
   "cell_type": "markdown",
   "id": "3c68676d",
   "metadata": {},
   "source": [
    "## Slicing and joining operations  \n",
    "It has the same syntax as numpy slicing operation\n"
   ]
  },
  {
   "cell_type": "markdown",
   "id": "97d7e8cf",
   "metadata": {},
   "source": [
    "Command: df.iloc[row_indexer,column_indexer]\n"
   ]
  },
  {
   "cell_type": "markdown",
   "id": "0e422686",
   "metadata": {},
   "source": [
    "Slice all rows and column 2 and 3 and put in a variable df3"
   ]
  },
  {
   "cell_type": "code",
   "execution_count": null,
   "id": "011f73ec",
   "metadata": {},
   "outputs": [],
   "source": [
    "df3=df.iloc[:,2:4]"
   ]
  },
  {
   "cell_type": "code",
   "execution_count": null,
   "id": "13c8b1ba",
   "metadata": {},
   "outputs": [],
   "source": [
    "df3.head()"
   ]
  },
  {
   "cell_type": "markdown",
   "id": "6d7ad82d",
   "metadata": {},
   "source": [
    "Slice rows from 2 to 4 and all columns and put in a variable df3"
   ]
  },
  {
   "cell_type": "code",
   "execution_count": null,
   "id": "fc9a84f7",
   "metadata": {},
   "outputs": [],
   "source": [
    "df3=df.iloc[2:5,:]"
   ]
  },
  {
   "cell_type": "code",
   "execution_count": null,
   "id": "932c767d",
   "metadata": {},
   "outputs": [],
   "source": [
    "df3.head()"
   ]
  },
  {
   "cell_type": "markdown",
   "id": "a20913ac",
   "metadata": {},
   "source": [
    "Slice the first 5 rows and all columns and save it to df2. Slice the next 5 rows and all columns and save it to df3"
   ]
  },
  {
   "cell_type": "code",
   "execution_count": null,
   "id": "bdb1d281",
   "metadata": {},
   "outputs": [],
   "source": [
    "df2=df.iloc[0:5,:]\n",
    "df3=df.loc[5:10,:]"
   ]
  },
  {
   "cell_type": "markdown",
   "id": "0fee8cc6",
   "metadata": {},
   "source": [
    "## Joining two dataframes that have same columns  \n",
    "command: df1.append(df2)"
   ]
  },
  {
   "cell_type": "markdown",
   "id": "b89ca49c",
   "metadata": {},
   "source": [
    "Now df2 and df3 have the same columns. We use append function to join df3 at the end of df2 and save it to df4"
   ]
  },
  {
   "cell_type": "code",
   "execution_count": null,
   "id": "b4666af0",
   "metadata": {},
   "outputs": [],
   "source": [
    "df4=df2.append(df3)"
   ]
  },
  {
   "cell_type": "code",
   "execution_count": null,
   "id": "8d72d814",
   "metadata": {},
   "outputs": [],
   "source": [
    "df4"
   ]
  },
  {
   "cell_type": "markdown",
   "id": "e2fd77bd",
   "metadata": {},
   "source": [
    "# Visualization"
   ]
  },
  {
   "cell_type": "markdown",
   "id": "6a17fc24",
   "metadata": {},
   "source": [
    "Importing the necessary libraries"
   ]
  },
  {
   "cell_type": "code",
   "execution_count": null,
   "id": "feb5724f",
   "metadata": {},
   "outputs": [],
   "source": [
    "import pandas as pd\n",
    "import seaborn as sns   # Why sns?  It's a reference to The West Wing\n",
    "import matplotlib.pyplot as plt  # seaborn is based on matplotlib\n",
    "sns.set(color_codes=True) # adds a nice background to the graphs\n",
    "%matplotlib inline \n",
    "# tells python to actually display the graphs"
   ]
  },
  {
   "cell_type": "markdown",
   "id": "5ec3fa45",
   "metadata": {},
   "source": [
    "Reading the csv file using read_csv function"
   ]
  },
  {
   "cell_type": "code",
   "execution_count": null,
   "id": "ebb68b81",
   "metadata": {},
   "outputs": [],
   "source": [
    "auto = pd.read_csv('Automobile.csv')\n",
    "auto.head()"
   ]
  },
  {
   "cell_type": "markdown",
   "id": "035089b8",
   "metadata": {},
   "source": [
    "## Plotting univariate distributions\n",
    "\n",
    "The most convenient way to take a quick look at a univariate distribution in seaborn is the distplot() function. By default, this will draw a histogram and fit a kernel density estimate (KDE).  \n",
    "\n"
   ]
  },
  {
   "cell_type": "markdown",
   "id": "fa8a45a1",
   "metadata": {},
   "source": [
    "Plotting distribution plot for column 'highway_mpg'"
   ]
  },
  {
   "cell_type": "code",
   "execution_count": null,
   "id": "4a41ab59",
   "metadata": {},
   "outputs": [],
   "source": [
    "sns.distplot(auto['highway_mpg'])"
   ]
  },
  {
   "cell_type": "markdown",
   "id": "bfd5731b",
   "metadata": {},
   "source": [
    "## Plotting bivariate distributions\n",
    "\n",
    "It can also be useful to visualize a relationship between two variables. "
   ]
  },
  {
   "cell_type": "markdown",
   "id": "5e0e831d",
   "metadata": {},
   "source": [
    "Plotting joint plot for columns 'horsepower' and 'engine_size'"
   ]
  },
  {
   "cell_type": "code",
   "execution_count": null,
   "id": "1b27d185",
   "metadata": {},
   "outputs": [],
   "source": [
    "sns.jointplot(auto['engine_size'], auto['horsepower'])"
   ]
  },
  {
   "cell_type": "markdown",
   "id": "dd6d0432",
   "metadata": {},
   "source": [
    "### Hex Bin Plots\n",
    "\n",
    "We can make a hex bin plot that breaks the 2D area into hexagons and the number of points in each hexagon determines the color"
   ]
  },
  {
   "cell_type": "markdown",
   "id": "49d49187",
   "metadata": {},
   "source": [
    "It is similar to jointplot just with a different pattern"
   ]
  },
  {
   "cell_type": "code",
   "execution_count": null,
   "id": "1f8f227f",
   "metadata": {},
   "outputs": [],
   "source": [
    "sns.jointplot(auto['engine_size'], auto['horsepower'], kind=\"hex\")"
   ]
  },
  {
   "cell_type": "markdown",
   "id": "dbb2e6c0",
   "metadata": {},
   "source": [
    "## Visualizing pairwise relationships in a dataset\n",
    "\n",
    "To plot multiple pairwise scatterplots in a dataset, you can use the pairplot() function. This creates a matrix of axes and shows the relationship for each pair of columns in a DataFrame, it also draws the histogram of each variable on the diagonal Axes:\n",
    "\n",
    "Be careful about toggle scrolling in the cell menu!!!"
   ]
  },
  {
   "cell_type": "code",
   "execution_count": null,
   "id": "091f9b7f",
   "metadata": {},
   "outputs": [],
   "source": [
    "sns.pairplot(auto[['normalized_losses', 'engine_size', 'horsepower']]) #If yo did not mention the columns you want, all columns will be considered."
   ]
  },
  {
   "cell_type": "markdown",
   "id": "97a7c570",
   "metadata": {},
   "source": [
    "A pairplot only using three columns. If the columns are not mentioned every continuous variable(columns) will be included in the plot"
   ]
  },
  {
   "cell_type": "markdown",
   "id": "d809c73b",
   "metadata": {},
   "source": [
    "## Plotting with categorical vs continuous data\n",
    "\n"
   ]
  },
  {
   "cell_type": "markdown",
   "id": "3cb19893",
   "metadata": {},
   "source": [
    "In a strip plot, the scatterplot points will usually overlap. This makes it difficult to see the full distribution of data. One easy solution is to adjust the positions (only along the categorical axis) using “jitter\""
   ]
  },
  {
   "cell_type": "markdown",
   "id": "dba1b6ab",
   "metadata": {},
   "source": [
    "Plot with column horsepower along y-axis and fuel type along x-axis"
   ]
  },
  {
   "cell_type": "code",
   "execution_count": null,
   "id": "b6abf7b1",
   "metadata": {},
   "outputs": [],
   "source": [
    "sns.stripplot(auto['fuel_type'], auto['horsepower'], jitter=True)"
   ]
  },
  {
   "cell_type": "markdown",
   "id": "fc9aaf9e",
   "metadata": {},
   "source": [
    "A different approach would be to use the function swarmplot(),It avoids overlapping points:"
   ]
  },
  {
   "cell_type": "code",
   "execution_count": null,
   "id": "b7d1becd",
   "metadata": {},
   "outputs": [],
   "source": [
    "sns.swarmplot(auto['fuel_type'], auto['horsepower'])"
   ]
  },
  {
   "cell_type": "markdown",
   "id": "b381c091",
   "metadata": {},
   "source": [
    "## Boxplots\n",
    "\n",
    "Another common graph is a boxplot(). This kind of plot shows the three quartile values of the distribution along with extreme values. The “whiskers” extend to points that lie within 1.5 IQRs of the lower and upper quartile, and then observations that fall outside this range are displayed independently. "
   ]
  },
  {
   "cell_type": "markdown",
   "id": "689053b2",
   "metadata": {},
   "source": [
    "Plotting a box plot with column 'horsepower' aling y-axis and 'number of doors' along x-axis"
   ]
  },
  {
   "cell_type": "code",
   "execution_count": null,
   "id": "5caef8fd",
   "metadata": {},
   "outputs": [],
   "source": [
    "sns.boxplot(auto['number_of_doors'], auto['horsepower'])"
   ]
  },
  {
   "cell_type": "markdown",
   "id": "15572ba6",
   "metadata": {},
   "source": [
    "We can add an argument called hue to further add another categorical variable to the existing plot. This is completely optional"
   ]
  },
  {
   "cell_type": "code",
   "execution_count": null,
   "id": "0983fa49",
   "metadata": {},
   "outputs": [],
   "source": [
    "sns.boxplot(auto['number_of_doors'], auto['horsepower'], hue=auto['fuel_type']) "
   ]
  },
  {
   "cell_type": "markdown",
   "id": "e35dd539",
   "metadata": {},
   "source": [
    "## Bar plots\n",
    "\n",
    "We can plot the mean of a a dataset, separated in categories using the barplot() function.\n",
    "\n",
    "Bar plots start at 0, which can sometimes be practical if zero is a number you want to compare to"
   ]
  },
  {
   "cell_type": "markdown",
   "id": "a5df5aba",
   "metadata": {},
   "source": [
    "Plotting bar plots for columns body_style, horsepower with fuel type as hue"
   ]
  },
  {
   "cell_type": "code",
   "execution_count": null,
   "id": "d37c719f",
   "metadata": {},
   "outputs": [],
   "source": [
    "sns.barplot(auto['body_style'], auto['horsepower'], hue=auto['fuel_type'])"
   ]
  },
  {
   "cell_type": "markdown",
   "id": "9930a7fd",
   "metadata": {},
   "source": [
    "A special case for the bar plot is when you want to show the number of observations in each category rather than computing the mean of a second variable. This is similar to a histogram over a categorical, rather than quantitative, variable. In seaborn, it’s easy to do so with the countplot() function:"
   ]
  },
  {
   "cell_type": "markdown",
   "id": "6d76b37b",
   "metadata": {},
   "source": [
    "## Countplot"
   ]
  },
  {
   "cell_type": "markdown",
   "id": "f8237e57",
   "metadata": {},
   "source": [
    "Plots the number of observations in each category of categorical column/ variable"
   ]
  },
  {
   "cell_type": "markdown",
   "id": "e38c5ffe",
   "metadata": {},
   "source": [
    "Plot the count plot for body style column with hue as fuel_type"
   ]
  },
  {
   "cell_type": "code",
   "execution_count": null,
   "id": "6fd0b605",
   "metadata": {},
   "outputs": [],
   "source": [
    "\n",
    "sns.countplot(auto['body_style'],hue=auto['fuel_type'])"
   ]
  },
  {
   "cell_type": "markdown",
   "id": "c3fc6f2e",
   "metadata": {},
   "source": [
    "# Exploratory Data analysis"
   ]
  },
  {
   "cell_type": "markdown",
   "id": "e50c3536",
   "metadata": {},
   "source": [
    "###  Load the libraries:"
   ]
  },
  {
   "cell_type": "markdown",
   "id": "22055ee4",
   "metadata": {},
   "source": [
    "Import the numpy, pandas, matplotlib and seaborn libraries"
   ]
  },
  {
   "cell_type": "code",
   "execution_count": null,
   "id": "da784044",
   "metadata": {},
   "outputs": [],
   "source": [
    "import numpy as np\n",
    "import pandas as pd\n",
    "import seaborn as sns\n",
    "import matplotlib.pyplot as plt  \n",
    "sns.set(color_codes=True) \n",
    "%matplotlib inline "
   ]
  },
  {
   "cell_type": "markdown",
   "id": "0d469f48",
   "metadata": {},
   "source": [
    "### Import the dataset"
   ]
  },
  {
   "cell_type": "markdown",
   "id": "4c510a20",
   "metadata": {},
   "source": [
    "Using pd.read_csv command load the csv file as df and using the head() function viewing the first five rows."
   ]
  },
  {
   "cell_type": "code",
   "execution_count": null,
   "id": "8d8497c0",
   "metadata": {},
   "outputs": [],
   "source": [
    "auto  = pd.read_csv('Automobile.csv') \n",
    "auto.head()  # view the first 5 rows of the data"
   ]
  },
  {
   "cell_type": "markdown",
   "id": "8d5054ec",
   "metadata": {},
   "source": [
    "The column make has no significance to the target variable so remove it"
   ]
  },
  {
   "cell_type": "code",
   "execution_count": null,
   "id": "261c680e",
   "metadata": {},
   "outputs": [],
   "source": [
    "auto.drop('make',axis=1,inplace=True)"
   ]
  },
  {
   "cell_type": "markdown",
   "id": "e214d8ce",
   "metadata": {},
   "source": [
    "Print the column names of the dataset"
   ]
  },
  {
   "cell_type": "code",
   "execution_count": null,
   "id": "f40ed205",
   "metadata": {},
   "outputs": [],
   "source": [
    "auto.columns"
   ]
  },
  {
   "cell_type": "markdown",
   "id": "5b8a1d20",
   "metadata": {},
   "source": [
    "### Check the dimensions of the data"
   ]
  },
  {
   "cell_type": "markdown",
   "id": "9208def3",
   "metadata": {},
   "source": [
    "See the shape of the data"
   ]
  },
  {
   "cell_type": "code",
   "execution_count": null,
   "id": "65d1733e",
   "metadata": {},
   "outputs": [],
   "source": [
    "auto.shape "
   ]
  },
  {
   "cell_type": "markdown",
   "id": "55a21d55",
   "metadata": {},
   "source": [
    "**There are 201 Observations / Rows and 26 Attributes / Columns.**"
   ]
  },
  {
   "cell_type": "markdown",
   "id": "8a9f6d53",
   "metadata": {},
   "source": [
    "### How to know if the variables are continuous or categorical ??"
   ]
  },
  {
   "cell_type": "markdown",
   "id": "7d3f5f55",
   "metadata": {},
   "source": [
    "Prints the number of unique values in each column of the dataset"
   ]
  },
  {
   "cell_type": "code",
   "execution_count": null,
   "id": "d985242a",
   "metadata": {},
   "outputs": [],
   "source": [
    "auto.nunique()"
   ]
  },
  {
   "cell_type": "markdown",
   "id": "9ea46fb5",
   "metadata": {},
   "source": [
    "The columns with less number on the right hand side is most probably a categorical variable whereas with large number it is continuous variable."
   ]
  },
  {
   "cell_type": "markdown",
   "id": "cf624a09",
   "metadata": {},
   "source": [
    "### Count the number of observations in categorical varibales"
   ]
  },
  {
   "cell_type": "markdown",
   "id": "507bb0bf",
   "metadata": {},
   "source": [
    "Prints the number of observations in each category in that column"
   ]
  },
  {
   "cell_type": "code",
   "execution_count": null,
   "id": "3ef7db08",
   "metadata": {},
   "outputs": [],
   "source": [
    "auto['body_style'].value_counts()"
   ]
  },
  {
   "cell_type": "markdown",
   "id": "737054d1",
   "metadata": {},
   "source": [
    "Prints the number of observations in each category in that column"
   ]
  },
  {
   "cell_type": "code",
   "execution_count": null,
   "id": "ba3bc632",
   "metadata": {},
   "outputs": [],
   "source": [
    "auto['number_of_doors'].value_counts()"
   ]
  },
  {
   "cell_type": "markdown",
   "id": "a2b938cd",
   "metadata": {},
   "source": [
    "### Check the Information about the data and the datatypes of each respective attributes."
   ]
  },
  {
   "cell_type": "code",
   "execution_count": null,
   "id": "26df4f81",
   "metadata": {},
   "outputs": [],
   "source": [
    "auto.info()"
   ]
  },
  {
   "cell_type": "markdown",
   "id": "ccad8439",
   "metadata": {},
   "source": [
    "### Descriptive Statistics"
   ]
  },
  {
   "cell_type": "markdown",
   "id": "7792de41",
   "metadata": {},
   "source": [
    "#### Calculate mean, mode and median"
   ]
  },
  {
   "cell_type": "markdown",
   "id": "fcbb42a2",
   "metadata": {},
   "source": [
    "Prints the mean of the dataset for each variable/column"
   ]
  },
  {
   "cell_type": "code",
   "execution_count": null,
   "id": "81d36fc8",
   "metadata": {},
   "outputs": [],
   "source": [
    "print(auto.mean()) "
   ]
  },
  {
   "cell_type": "markdown",
   "id": "c8cdc76e",
   "metadata": {},
   "source": [
    "Print the mode of the dataset for that  variable/column"
   ]
  },
  {
   "cell_type": "code",
   "execution_count": null,
   "id": "e889aae8",
   "metadata": {},
   "outputs": [],
   "source": [
    "print(auto['city_mpg'].mode())  "
   ]
  },
  {
   "cell_type": "markdown",
   "id": "f75147ff",
   "metadata": {},
   "source": [
    " Only one mode for city_mpg column"
   ]
  },
  {
   "cell_type": "markdown",
   "id": "4fcc893e",
   "metadata": {},
   "source": [
    "Prints the median of the dataset for each variable/column"
   ]
  },
  {
   "cell_type": "code",
   "execution_count": null,
   "id": "63e9d12e",
   "metadata": {},
   "outputs": [],
   "source": [
    "print(auto.median())  # Print the median values of the data."
   ]
  },
  {
   "cell_type": "markdown",
   "id": "c247fea3",
   "metadata": {},
   "source": [
    "#### Plotting mean,mode and median for a single attribute"
   ]
  },
  {
   "cell_type": "code",
   "execution_count": null,
   "id": "74fecd20",
   "metadata": {},
   "outputs": [],
   "source": [
    "mean=auto['city_mpg'].mean()\n",
    "median=auto['city_mpg'].median()\n",
    "mode=auto['city_mpg'].mode()\n",
    "\n",
    "print('Mean: ',mean,'\\nMedian: ',median,'\\nMode: ',mode[0])\n",
    "\n",
    "plt.figure(figsize=(10,5)) # set the figure size\n",
    "plt.hist(auto['city_mpg'],bins=100,color='lightblue') #Plot the histogram\n",
    "\n",
    "plt.axvline(mean,color='green',label='Mean')     # Draw lines on the plot for mean median and the two modes we have in GRE Score\n",
    "plt.axvline(median,color='blue',label='Median')\n",
    "plt.axvline(mode[0],color='red',label='Mode1')\n",
    "\n",
    "\n",
    "plt.xlabel('City_mpg')   # label the x-axis\n",
    "plt.ylabel('Frequency')   # label the y-axis\n",
    "plt.legend()              # Plot the legend\n",
    "plt.show()"
   ]
  },
  {
   "cell_type": "markdown",
   "id": "8b830f41",
   "metadata": {},
   "source": [
    "#### Get Q1,Q2, Q3\n",
    "- Q1 :value below which 25% of the data lies\n",
    "- Q2 :value below which 50% of the data lies\n",
    "- Q3 :value below which 75% of the data lies"
   ]
  },
  {
   "cell_type": "markdown",
   "id": "2fdc35c9",
   "metadata": {},
   "source": [
    "Prints the Q1 of the dataset for each variable/column"
   ]
  },
  {
   "cell_type": "code",
   "execution_count": null,
   "id": "afbc7129",
   "metadata": {},
   "outputs": [],
   "source": [
    "print(\"Data_quantile(25%):\")\n",
    "print(auto.quantile(q=0.25))   # Prints the value below which 25% of the data lies"
   ]
  },
  {
   "cell_type": "markdown",
   "id": "a8c47357",
   "metadata": {},
   "source": [
    "Prints the Q2 of the dataset for each variable/column"
   ]
  },
  {
   "cell_type": "code",
   "execution_count": null,
   "id": "39dc9964",
   "metadata": {},
   "outputs": [],
   "source": [
    "print(\"Data_quantile(50%):\")\n",
    "print(auto.quantile(q=0.50))   # Prints the value below which 50% of the data lies"
   ]
  },
  {
   "cell_type": "markdown",
   "id": "87264208",
   "metadata": {},
   "source": [
    "Prints the Q3 of the dataset for each variable/column"
   ]
  },
  {
   "cell_type": "code",
   "execution_count": null,
   "id": "58ac5318",
   "metadata": {},
   "outputs": [],
   "source": [
    "print(\"Data_quantile(75%):\")\n",
    "print(auto.quantile(q=0.75)) # Prints the value below which 75% of the data lies"
   ]
  },
  {
   "cell_type": "markdown",
   "id": "1a526e01",
   "metadata": {},
   "source": [
    "#### IQR regiod of a dataset: Q3-Q1"
   ]
  },
  {
   "cell_type": "code",
   "execution_count": null,
   "id": "0698d144",
   "metadata": {},
   "outputs": [],
   "source": [
    "auto.quantile(0.75) - auto.quantile(0.25)"
   ]
  },
  {
   "cell_type": "markdown",
   "id": "dcca307d",
   "metadata": {},
   "source": [
    "#### Variance "
   ]
  },
  {
   "cell_type": "markdown",
   "id": "3953f181",
   "metadata": {},
   "source": [
    "Prints the variance of the dataset for each variable/column"
   ]
  },
  {
   "cell_type": "code",
   "execution_count": null,
   "id": "f3fad660",
   "metadata": {},
   "outputs": [],
   "source": [
    "print(auto.var()) # the  output says how much was the data dispersion."
   ]
  },
  {
   "cell_type": "markdown",
   "id": "825b85d7",
   "metadata": {},
   "source": [
    "#### Standard Deviation"
   ]
  },
  {
   "cell_type": "markdown",
   "id": "ab54ed64",
   "metadata": {},
   "source": [
    "Prints the std of the dataset for each variable/column"
   ]
  },
  {
   "cell_type": "code",
   "execution_count": null,
   "id": "83f759b7",
   "metadata": {},
   "outputs": [],
   "source": [
    "print(auto.std()) #the output says how much the data deviated from the mean."
   ]
  },
  {
   "cell_type": "markdown",
   "id": "5e7a6ff1",
   "metadata": {},
   "source": [
    "### Covariance and Correlation"
   ]
  },
  {
   "cell_type": "markdown",
   "id": "11c00b76",
   "metadata": {},
   "source": [
    "Covariance signifies the direction of the linear relationship between the two variables. By direction we mean if the variables are directly proportional or inversely proportional to each other."
   ]
  },
  {
   "cell_type": "markdown",
   "id": "23769f9c",
   "metadata": {},
   "source": [
    "Prints the covariance of each attribute against every other attribute"
   ]
  },
  {
   "cell_type": "code",
   "execution_count": null,
   "id": "7c59e9f3",
   "metadata": {},
   "outputs": [],
   "source": [
    "auto.cov() "
   ]
  },
  {
   "cell_type": "markdown",
   "id": "62575889",
   "metadata": {},
   "source": [
    "Correlation is not only used to identify the type of relationship between the columns but also how strong they are.Thus, we can say the correlation values have standardized notions, whereas the covariance values are not standardized and cannot be used to compare how strong or weak the relationship is because the magnitude has no direct significance. "
   ]
  },
  {
   "cell_type": "markdown",
   "id": "540e92d0",
   "metadata": {},
   "source": [
    "Prints the correlation coefficient between every pair of attributes"
   ]
  },
  {
   "cell_type": "code",
   "execution_count": null,
   "id": "459c94bd",
   "metadata": {},
   "outputs": [],
   "source": [
    "auto.corr() "
   ]
  },
  {
   "cell_type": "markdown",
   "id": "3828cabd",
   "metadata": {},
   "source": [
    "#### Another way to check for correlation is using a heat map"
   ]
  },
  {
   "cell_type": "code",
   "execution_count": null,
   "id": "7fe3590c",
   "metadata": {},
   "outputs": [],
   "source": [
    "fig,ax = plt.subplots(figsize=(10, 10))   \n",
    "sns.heatmap(auto.corr(), ax=ax, annot=True, linewidths=0.05, fmt= '.2f',cmap=\"magma\") # the color intensity is based on \n",
    "plt.show()"
   ]
  },
  {
   "cell_type": "markdown",
   "id": "3f360463",
   "metadata": {},
   "source": [
    "One of the perfect ways to visualize correlation between variables. The correlation between each variable is printed in each box. "
   ]
  },
  {
   "cell_type": "markdown",
   "id": "60f15818",
   "metadata": {},
   "source": [
    "### Five point summary\n",
    "Gives us the mean, count, standard deviation, min, max, Q1,Q2 and Q3 in a single command for all continuous variables"
   ]
  },
  {
   "cell_type": "code",
   "execution_count": null,
   "id": "3c340e5e",
   "metadata": {},
   "outputs": [],
   "source": [
    "auto.describe().T"
   ]
  },
  {
   "cell_type": "markdown",
   "id": "8942b348",
   "metadata": {},
   "source": [
    "### How to deal with missing, duplicate and outlier values"
   ]
  },
  {
   "cell_type": "markdown",
   "id": "1d19ac8c",
   "metadata": {},
   "source": [
    "Import the dataset named 'Automobile2.csv'"
   ]
  },
  {
   "cell_type": "code",
   "execution_count": null,
   "id": "402c5a65",
   "metadata": {},
   "outputs": [],
   "source": [
    "auto  = pd.read_csv('Automobile2.csv') \n",
    "auto.head()"
   ]
  },
  {
   "cell_type": "markdown",
   "id": "1d7de53a",
   "metadata": {},
   "source": [
    "#### Removing duplicate variables"
   ]
  },
  {
   "cell_type": "code",
   "execution_count": null,
   "id": "1b01a1db",
   "metadata": {},
   "outputs": [],
   "source": [
    "dupes = auto.duplicated()\n",
    "sum(dupes)"
   ]
  },
  {
   "cell_type": "markdown",
   "id": "f21a1b89",
   "metadata": {},
   "source": [
    "There are 3 duplicate values in our current dataset, use the following command to remove them"
   ]
  },
  {
   "cell_type": "code",
   "execution_count": null,
   "id": "d1e2e7c4",
   "metadata": {},
   "outputs": [],
   "source": [
    "auto =auto.drop_duplicates()"
   ]
  },
  {
   "cell_type": "code",
   "execution_count": null,
   "id": "d4104bb8",
   "metadata": {},
   "outputs": [],
   "source": [
    "dupes = auto.duplicated()\n",
    "sum(dupes)"
   ]
  },
  {
   "cell_type": "markdown",
   "id": "e10961cd",
   "metadata": {},
   "source": [
    "No more duplicate values"
   ]
  },
  {
   "cell_type": "markdown",
   "id": "4c943cd7",
   "metadata": {},
   "source": [
    "#### To check for missing values"
   ]
  },
  {
   "cell_type": "code",
   "execution_count": null,
   "id": "b49d4a39",
   "metadata": {},
   "outputs": [],
   "source": [
    "auto.isnull().sum()"
   ]
  },
  {
   "cell_type": "code",
   "execution_count": null,
   "id": "eb2c8e16",
   "metadata": {},
   "outputs": [],
   "source": [
    "auto.isnull().values.any() "
   ]
  },
  {
   "cell_type": "code",
   "execution_count": null,
   "id": "61d1c1d5",
   "metadata": {},
   "outputs": [],
   "source": [
    "pd.DataFrame( auto.isnull().sum(), columns= ['Number of missing values'])"
   ]
  },
  {
   "cell_type": "markdown",
   "id": "42e5584f",
   "metadata": {},
   "source": [
    "There are many values in which missing values can be replaced by different values which is often called\n",
    "as imputing missing values. It depends on your data and the problem you are trying to solve. In the below cell different types of missing value imputations are shown."
   ]
  },
  {
   "cell_type": "markdown",
   "id": "b39617f1",
   "metadata": {},
   "source": [
    "#### Column wise imputating missing value"
   ]
  },
  {
   "cell_type": "markdown",
   "id": "e5771fe1",
   "metadata": {},
   "source": [
    "Replacing NaN with a custom value"
   ]
  },
  {
   "cell_type": "code",
   "execution_count": null,
   "id": "467609ac",
   "metadata": {},
   "outputs": [],
   "source": [
    "\n",
    "auto['number_of_doors'].fillna('two', inplace = True)   \n",
    "\n",
    "\n"
   ]
  },
  {
   "cell_type": "markdown",
   "id": "a01b92ff",
   "metadata": {},
   "source": [
    "Replace NaN values with the mean of the column"
   ]
  },
  {
   "cell_type": "code",
   "execution_count": null,
   "id": "e1c2c6fb",
   "metadata": {},
   "outputs": [],
   "source": [
    "\n",
    " auto['stroke'].fillna(auto.stroke.mean(), inplace = True)  "
   ]
  },
  {
   "cell_type": "markdown",
   "id": "694b2ac8",
   "metadata": {},
   "source": [
    "Replace NaN values with the median of the column"
   ]
  },
  {
   "cell_type": "code",
   "execution_count": null,
   "id": "87ed95af",
   "metadata": {},
   "outputs": [],
   "source": [
    "\n",
    " \n",
    "auto['peak_rpm'].fillna(auto.peak_rpm.median(), inplace = True)  "
   ]
  },
  {
   "cell_type": "markdown",
   "id": "b46b7b6f",
   "metadata": {},
   "source": [
    "#### To apply a single method over the entire the dataframe rather than applying it for one column"
   ]
  },
  {
   "cell_type": "markdown",
   "id": "7383c829",
   "metadata": {},
   "source": [
    "medianFiller = lambda x: x.fillna(x.median())  \n",
    "\n",
    "auto = auto.apply(medianFiller,axis=0)\n"
   ]
  },
  {
   "cell_type": "markdown",
   "id": "13efb952",
   "metadata": {},
   "source": [
    "#### Caution: Among the above four methods, using mean and mode or other numerical operations for imputing missing values requires the column to contain number (int or float). If it contains words(string)then only method is to use first method, fill that particular column with a custom value or drop that row"
   ]
  },
  {
   "cell_type": "markdown",
   "id": "dfba4eb6",
   "metadata": {},
   "source": [
    "#### Drop rows with missing values. Use this method when we have a lot of data and missing a few will not affect the data size"
   ]
  },
  {
   "cell_type": "code",
   "execution_count": null,
   "id": "f5efb831",
   "metadata": {},
   "outputs": [],
   "source": [
    "auto.dropna(inplace=True)  # Drops all the rows that have atleast one missing values\n",
    "auto.isnull().sum()"
   ]
  },
  {
   "cell_type": "markdown",
   "id": "f1695e83",
   "metadata": {},
   "source": [
    "No missing values detected"
   ]
  },
  {
   "cell_type": "markdown",
   "id": "c322a557",
   "metadata": {},
   "source": [
    "## Normalization"
   ]
  },
  {
   "cell_type": "markdown",
   "id": "8b3c59f0",
   "metadata": {},
   "source": [
    "### Why do we need Normalization?"
   ]
  },
  {
   "cell_type": "markdown",
   "id": "f5c0771e",
   "metadata": {},
   "source": [
    "Each column can have different ranges, this can be seriously affect the performance of the model so we normalize the values so that all columns and variables have the same range(0,1)."
   ]
  },
  {
   "cell_type": "code",
   "execution_count": null,
   "id": "51a7b10a",
   "metadata": {},
   "outputs": [],
   "source": [
    "from sklearn.preprocessing import MinMaxScaler\n",
    "\n",
    "minmax_scale = MinMaxScaler()\n",
    "\n",
    "minmax_scale"
   ]
  },
  {
   "cell_type": "markdown",
   "id": "fad8cbae",
   "metadata": {},
   "source": [
    "Using min-max normalization to normalize the columns bore and city_mpg"
   ]
  },
  {
   "cell_type": "code",
   "execution_count": null,
   "id": "a3b33064",
   "metadata": {},
   "outputs": [],
   "source": [
    "auto[['bore','city_mpg']] = minmax_scale.fit_transform(auto[['bore','city_mpg']])  #Add all those continuous variables that needed to be normalized"
   ]
  },
  {
   "cell_type": "markdown",
   "id": "3c1acc33",
   "metadata": {},
   "source": [
    "Now the range of column is from 0 to 1"
   ]
  },
  {
   "cell_type": "code",
   "execution_count": null,
   "id": "9d7e4a1e",
   "metadata": {},
   "outputs": [],
   "source": [
    "auto['city_mpg'].min(), auto['city_mpg'].max()"
   ]
  },
  {
   "cell_type": "markdown",
   "id": "d1ed1cc9",
   "metadata": {},
   "source": [
    "## One hot encoding"
   ]
  },
  {
   "cell_type": "markdown",
   "id": "971253df",
   "metadata": {},
   "source": [
    "One-Hot-Encoding is used to create dummry variables to replace the categories in a categorical variable into features of each category and represent it using 1 or 0 based on the presence or absence of the categorical value in the record. These categorical values hold object datatype values not int or float. For example in the above dataset, fuel_system,aspiration,number_of_doors, body_style, engine_location, drive_wheels, fuel_type are some of the columns that needs one hot enconding "
   ]
  },
  {
   "cell_type": "markdown",
   "id": "8394fcf1",
   "metadata": {},
   "source": [
    "We apply one hot encoding over one of the categorical variable 'Door' that holds object data type"
   ]
  },
  {
   "cell_type": "code",
   "execution_count": null,
   "id": "78e023b2",
   "metadata": {},
   "outputs": [],
   "source": [
    "df_dummies= pd.get_dummies(auto, prefix='Doors', columns=['number_of_doors'])"
   ]
  },
  {
   "cell_type": "code",
   "execution_count": null,
   "id": "246bc4c3",
   "metadata": {
    "scrolled": true
   },
   "outputs": [],
   "source": [
    "df_dummies.head()"
   ]
  },
  {
   "cell_type": "markdown",
   "id": "6361cb58",
   "metadata": {},
   "source": [
    "#### Once one hot encoding is done median method to impute missing values can be performed. "
   ]
  },
  {
   "cell_type": "markdown",
   "id": "d09e6460",
   "metadata": {},
   "source": [
    "# Hands-On session -I Numpy"
   ]
  },
  {
   "cell_type": "markdown",
   "id": "3e0d9840",
   "metadata": {},
   "source": [
    "Q1: Create a 3x3 matrix containing the elements [1,2,3,4,5,6,7,8,9], print it's size , shape and type"
   ]
  },
  {
   "cell_type": "code",
   "execution_count": null,
   "id": "ea92aafc",
   "metadata": {},
   "outputs": [],
   "source": []
  },
  {
   "cell_type": "markdown",
   "id": "9666569d",
   "metadata": {},
   "source": [
    "Q2: Create a 3x4 matrix using np.arange, print it's size, shape  \n",
    "\n",
    "\n",
    "Hint: np.arange(start,end,step)  \n",
    "\n",
    "start (int):start of the sequence. If not intialized 0 will be considered as default  \n",
    "\n",
    "end(int):end of sequence (Will end before this number)  \n",
    "\n",
    "step(int): Spacing between two adjacent values. Optional, 1 will be considered as default  \n"
   ]
  },
  {
   "cell_type": "code",
   "execution_count": null,
   "id": "86c1577c",
   "metadata": {},
   "outputs": [],
   "source": []
  },
  {
   "cell_type": "markdown",
   "id": "8d12544c",
   "metadata": {},
   "source": [
    "Q3: Create a 2x2 matrix with all elements as 0. Hint: use np.zeros((m,n))"
   ]
  },
  {
   "cell_type": "code",
   "execution_count": null,
   "id": "9b14c6d4",
   "metadata": {},
   "outputs": [],
   "source": []
  },
  {
   "cell_type": "markdown",
   "id": "b5568e21",
   "metadata": {},
   "source": [
    "Q4: Slice the center 2x2 matrix from the 4 x 4 matrix. Create a 4x4 matrix firstly"
   ]
  },
  {
   "cell_type": "code",
   "execution_count": null,
   "id": "fcd3e44a",
   "metadata": {},
   "outputs": [],
   "source": []
  },
  {
   "cell_type": "markdown",
   "id": "551ea4ed",
   "metadata": {},
   "source": [
    "Q5: Solve the following formula a * c = b. a and  b are given find c.  \n",
    "Hint: c= b x a.inverse"
   ]
  },
  {
   "cell_type": "code",
   "execution_count": null,
   "id": "3c8a13dd",
   "metadata": {
    "scrolled": true
   },
   "outputs": [],
   "source": [
    "a= np.array([[2,6],[8,4]])\n",
    "b= np.array([[1,3],[9,5]])\n"
   ]
  },
  {
   "cell_type": "code",
   "execution_count": null,
   "id": "73ffa4d1",
   "metadata": {},
   "outputs": [],
   "source": []
  },
  {
   "cell_type": "markdown",
   "id": "30343bf0",
   "metadata": {},
   "source": [
    "# Hands-On session -II Pandas"
   ]
  },
  {
   "cell_type": "markdown",
   "id": "ca0b847e",
   "metadata": {},
   "source": [
    "Q1: Load the csv file called 'cars.csv' into the notebook"
   ]
  },
  {
   "cell_type": "code",
   "execution_count": null,
   "id": "9e4b7584",
   "metadata": {},
   "outputs": [],
   "source": []
  },
  {
   "cell_type": "markdown",
   "id": "fe469986",
   "metadata": {},
   "source": [
    "Q2: Explore the dimesions and size"
   ]
  },
  {
   "cell_type": "code",
   "execution_count": null,
   "id": "eef4f7a2",
   "metadata": {},
   "outputs": [],
   "source": []
  },
  {
   "cell_type": "markdown",
   "id": "240bc891",
   "metadata": {},
   "source": [
    "Q3: Print the last 20 rows"
   ]
  },
  {
   "cell_type": "code",
   "execution_count": null,
   "id": "4125d9b5",
   "metadata": {},
   "outputs": [],
   "source": []
  },
  {
   "cell_type": "markdown",
   "id": "2ab5ca61",
   "metadata": {},
   "source": [
    "Q4: Slice the rows: 15 to 29 and keep it as a seperate dataframe"
   ]
  },
  {
   "cell_type": "code",
   "execution_count": null,
   "id": "1cfc4874",
   "metadata": {},
   "outputs": [],
   "source": []
  },
  {
   "cell_type": "markdown",
   "id": "311fffa9",
   "metadata": {},
   "source": [
    "Q5: Slice the last two columns and keep it as a seperate dataframe"
   ]
  },
  {
   "cell_type": "code",
   "execution_count": null,
   "id": "2d6671b8",
   "metadata": {},
   "outputs": [],
   "source": []
  },
  {
   "cell_type": "markdown",
   "id": "ec92ed63",
   "metadata": {},
   "source": [
    "# Hands-On session -III Visualization"
   ]
  },
  {
   "cell_type": "markdown",
   "id": "35e82b35",
   "metadata": {},
   "source": [
    "Load the previous dataset 'cars.csv'. It has both categorical and continuous variables. Plot the following."
   ]
  },
  {
   "cell_type": "markdown",
   "id": "cadfd887",
   "metadata": {},
   "source": [
    "Q1. Pair plot of all variables (continuous)"
   ]
  },
  {
   "cell_type": "code",
   "execution_count": null,
   "id": "ae0225ad",
   "metadata": {},
   "outputs": [],
   "source": []
  },
  {
   "cell_type": "markdown",
   "id": "619f86fd",
   "metadata": {},
   "source": [
    "Q2. Plot any two countplots using (categorical variables) "
   ]
  },
  {
   "cell_type": "code",
   "execution_count": null,
   "id": "52de739c",
   "metadata": {},
   "outputs": [],
   "source": []
  },
  {
   "cell_type": "markdown",
   "id": "91d0fc98",
   "metadata": {},
   "source": [
    "Q3. Plot any Two Categorical vs continuous variable plots"
   ]
  },
  {
   "cell_type": "code",
   "execution_count": null,
   "id": "a4d60689",
   "metadata": {},
   "outputs": [],
   "source": []
  },
  {
   "cell_type": "markdown",
   "id": "79290c10",
   "metadata": {},
   "source": [
    "Q4. Any other plot of your choice and variable from the dataset"
   ]
  },
  {
   "cell_type": "code",
   "execution_count": null,
   "id": "69d7e69f",
   "metadata": {},
   "outputs": [],
   "source": []
  },
  {
   "cell_type": "markdown",
   "id": "8638a138",
   "metadata": {},
   "source": [
    "# Hands-On session -IV Exploratory Data Analysis"
   ]
  },
  {
   "cell_type": "markdown",
   "id": "3637cd02",
   "metadata": {},
   "source": [
    "Load the Admission_Predict.csv dataset and perform all the above operation.\n",
    "\n",
    "Details about the dataset:\n",
    "This dataset is used for prediction of Graduate Admissions. It has the following attributes  \n",
    "\n",
    "    1. GRE Scores ( 290 to 340 ) \n",
    "    2. TOEFL Scores ( 92 to 120 ) \n",
    "    3. University Rating ( 1 to 5 )\n",
    "    4. Statement of Purpose ( 1 to 5 )  \n",
    "    5. Letter of Recommendation Strength ( 1 to 5 ) \n",
    "    6. Undergraduate GPA ( 6.8 to 10 ) \n",
    "    7. Research Experience ( 0 or 1 ) \n",
    "    8. Chance of Admit ( ranging from  0.34 to 0.97)\n",
    "    \n"
   ]
  },
  {
   "cell_type": "markdown",
   "id": "ca0aa34f",
   "metadata": {},
   "source": [
    "Q1. Import the necessary libraries  \n",
    "numpy,pandas,matplotlib,seaborn"
   ]
  },
  {
   "cell_type": "code",
   "execution_count": null,
   "id": "91543468",
   "metadata": {},
   "outputs": [],
   "source": []
  },
  {
   "cell_type": "markdown",
   "id": "e2e57710",
   "metadata": {},
   "source": [
    "Q2. Load the csv data using pd.read_csv function. Print the shape and dimension of the data using df.size and df.shape. Remove unecesasry rows using function df.drop('col_name',axis=1) and print column names using df.columns function"
   ]
  },
  {
   "cell_type": "code",
   "execution_count": null,
   "id": "138f0608",
   "metadata": {},
   "outputs": [],
   "source": []
  },
  {
   "cell_type": "markdown",
   "id": "cd4ffd62",
   "metadata": {},
   "source": [
    "Optional: Try to implement commands like \n",
    "- df.info,\n",
    "- df.nunique,\n",
    "- df['col'].value_counts()"
   ]
  },
  {
   "cell_type": "markdown",
   "id": "84c73050",
   "metadata": {},
   "source": [
    "Q3. Get descriptive statistics( mean, mode, median, co-realation, co-variance, Q1,Q2,Q3 etc) from the dataset  \n",
    "Try to use these commands \n",
    "- df.mean,\n",
    "- df.mode,\n",
    "- df.median,\n",
    "- df.describe, \n",
    "- df.quantile(q=0.25%), \n",
    "- IQR.\n",
    "- df.corr()\n",
    "- df.cov()\n",
    "Refer to the Exploratory Data Analysis section in this notebook "
   ]
  },
  {
   "cell_type": "code",
   "execution_count": null,
   "id": "6d490bcc",
   "metadata": {},
   "outputs": [],
   "source": []
  },
  {
   "cell_type": "markdown",
   "id": "6b00888a",
   "metadata": {},
   "source": [
    "Q4. Use the various seaborn libraries to plot the columns from dataset. Use  \n",
    "\n",
    "- sns.distplot()\n",
    "- sns.pairplot()\n",
    "- sns.scatterplot()\n",
    "- sns.jointplot()\n",
    "- sns.countplot()\n",
    "- sns.boxplot\n",
    "\n",
    "Use any number of combinations or choices"
   ]
  },
  {
   "cell_type": "markdown",
   "id": "771ff7e3",
   "metadata": {},
   "source": [
    "Q5. Remove duplicate values from the dataset if necesasy.  \n",
    "Use df.drop_duplicates() dunction"
   ]
  },
  {
   "cell_type": "code",
   "execution_count": null,
   "id": "e57fe606",
   "metadata": {},
   "outputs": [],
   "source": []
  },
  {
   "cell_type": "markdown",
   "id": "c7439374",
   "metadata": {},
   "source": [
    "Q6. Perform one hot encoding function, if required. Use pd.get_dummies() function"
   ]
  },
  {
   "cell_type": "code",
   "execution_count": null,
   "id": "8e204b97",
   "metadata": {},
   "outputs": [],
   "source": []
  },
  {
   "cell_type": "markdown",
   "id": "88bf0645",
   "metadata": {},
   "source": [
    "Q7. Identify and Impute any missing values in the dataset. Use either\n",
    "- df['col'].fillna(): mean or median or custom value\n",
    "- Or Lambda dunction\n",
    "Refer to the impute missing value section"
   ]
  },
  {
   "cell_type": "code",
   "execution_count": null,
   "id": "673b3926",
   "metadata": {},
   "outputs": [],
   "source": []
  },
  {
   "cell_type": "markdown",
   "id": "8edfa854",
   "metadata": {},
   "source": [
    "Q8. Normalize the values in the column. Use the min_max normalization method mentioned in the notebook above. "
   ]
  },
  {
   "cell_type": "code",
   "execution_count": null,
   "id": "571a584c",
   "metadata": {},
   "outputs": [],
   "source": []
  },
  {
   "cell_type": "code",
   "execution_count": null,
   "id": "af128daf",
   "metadata": {},
   "outputs": [],
   "source": []
  }
 ],
 "metadata": {
  "kernelspec": {
   "display_name": "Python 3",
   "language": "python",
   "name": "python3"
  },
  "language_info": {
   "codemirror_mode": {
    "name": "ipython",
    "version": 3
   },
   "file_extension": ".py",
   "mimetype": "text/x-python",
   "name": "python",
   "nbconvert_exporter": "python",
   "pygments_lexer": "ipython3",
   "version": "3.6.7"
  }
 },
 "nbformat": 4,
 "nbformat_minor": 5
}
